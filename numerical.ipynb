{
 "cells": [
  {
   "cell_type": "code",
   "execution_count": 1,
   "id": "47d5de57",
   "metadata": {
    "_cell_guid": "b1076dfc-b9ad-4769-8c92-a6c4dae69d19",
    "_uuid": "8f2839f25d086af736a60e9eeb907d3b93b6e0e5",
    "execution": {
     "iopub.execute_input": "2024-04-20T20:30:43.448776Z",
     "iopub.status.busy": "2024-04-20T20:30:43.448384Z",
     "iopub.status.idle": "2024-04-20T20:30:44.335213Z",
     "shell.execute_reply": "2024-04-20T20:30:44.333999Z"
    },
    "papermill": {
     "duration": 0.910091,
     "end_time": "2024-04-20T20:30:44.337591",
     "exception": false,
     "start_time": "2024-04-20T20:30:43.427500",
     "status": "completed"
    },
    "tags": []
   },
   "outputs": [
    {
     "name": "stdout",
     "output_type": "stream",
     "text": [
      "/kaggle/input/titanic/train.csv\n",
      "/kaggle/input/titanic/test.csv\n",
      "/kaggle/input/titanic/gender_submission.csv\n"
     ]
    }
   ],
   "source": [
    "# This Python 3 environment comes with many helpful analytics libraries installed\n",
    "# It is defined by the kaggle/python Docker image: https://github.com/kaggle/docker-python\n",
    "# For example, here's several helpful packages to load\n",
    "\n",
    "import numpy as np # linear algebra\n",
    "import pandas as pd # data processing, CSV file I/O (e.g. pd.read_csv)\n",
    "\n",
    "# Input data files are available in the read-only \"../input/\" directory\n",
    "# For example, running this (by clicking run or pressing Shift+Enter) will list all files under the input directory\n",
    "\n",
    "import os\n",
    "for dirname, _, filenames in os.walk('/kaggle/input'):\n",
    "    for filename in filenames:\n",
    "        print(os.path.join(dirname, filename))\n",
    "\n",
    "# You can write up to 20GB to the current directory (/kaggle/working/) that gets preserved as output when you create a version using \"Save & Run All\" \n",
    "# You can also write temporary files to /kaggle/temp/, but they won't be saved outside of the current session"
   ]
  },
  {
   "cell_type": "code",
   "execution_count": 2,
   "id": "ffb02849",
   "metadata": {
    "execution": {
     "iopub.execute_input": "2024-04-20T20:30:44.379517Z",
     "iopub.status.busy": "2024-04-20T20:30:44.378996Z",
     "iopub.status.idle": "2024-04-20T20:30:44.406370Z",
     "shell.execute_reply": "2024-04-20T20:30:44.405286Z"
    },
    "papermill": {
     "duration": 0.050677,
     "end_time": "2024-04-20T20:30:44.409032",
     "exception": false,
     "start_time": "2024-04-20T20:30:44.358355",
     "status": "completed"
    },
    "tags": []
   },
   "outputs": [],
   "source": [
    "train = pd.read_csv(\"/kaggle/input/titanic/train.csv\")"
   ]
  },
  {
   "cell_type": "code",
   "execution_count": 3,
   "id": "fb2b66bf",
   "metadata": {
    "execution": {
     "iopub.execute_input": "2024-04-20T20:30:44.450882Z",
     "iopub.status.busy": "2024-04-20T20:30:44.450497Z",
     "iopub.status.idle": "2024-04-20T20:30:44.474472Z",
     "shell.execute_reply": "2024-04-20T20:30:44.473343Z"
    },
    "papermill": {
     "duration": 0.048056,
     "end_time": "2024-04-20T20:30:44.476948",
     "exception": false,
     "start_time": "2024-04-20T20:30:44.428892",
     "status": "completed"
    },
    "tags": []
   },
   "outputs": [
    {
     "data": {
      "text/html": [
       "<div>\n",
       "<style scoped>\n",
       "    .dataframe tbody tr th:only-of-type {\n",
       "        vertical-align: middle;\n",
       "    }\n",
       "\n",
       "    .dataframe tbody tr th {\n",
       "        vertical-align: top;\n",
       "    }\n",
       "\n",
       "    .dataframe thead th {\n",
       "        text-align: right;\n",
       "    }\n",
       "</style>\n",
       "<table border=\"1\" class=\"dataframe\">\n",
       "  <thead>\n",
       "    <tr style=\"text-align: right;\">\n",
       "      <th></th>\n",
       "      <th>PassengerId</th>\n",
       "      <th>Survived</th>\n",
       "      <th>Pclass</th>\n",
       "      <th>Name</th>\n",
       "      <th>Sex</th>\n",
       "      <th>Age</th>\n",
       "      <th>SibSp</th>\n",
       "      <th>Parch</th>\n",
       "      <th>Ticket</th>\n",
       "      <th>Fare</th>\n",
       "      <th>Cabin</th>\n",
       "      <th>Embarked</th>\n",
       "    </tr>\n",
       "  </thead>\n",
       "  <tbody>\n",
       "    <tr>\n",
       "      <th>0</th>\n",
       "      <td>1</td>\n",
       "      <td>0</td>\n",
       "      <td>3</td>\n",
       "      <td>Braund, Mr. Owen Harris</td>\n",
       "      <td>male</td>\n",
       "      <td>22.0</td>\n",
       "      <td>1</td>\n",
       "      <td>0</td>\n",
       "      <td>A/5 21171</td>\n",
       "      <td>7.2500</td>\n",
       "      <td>NaN</td>\n",
       "      <td>S</td>\n",
       "    </tr>\n",
       "    <tr>\n",
       "      <th>1</th>\n",
       "      <td>2</td>\n",
       "      <td>1</td>\n",
       "      <td>1</td>\n",
       "      <td>Cumings, Mrs. John Bradley (Florence Briggs Th...</td>\n",
       "      <td>female</td>\n",
       "      <td>38.0</td>\n",
       "      <td>1</td>\n",
       "      <td>0</td>\n",
       "      <td>PC 17599</td>\n",
       "      <td>71.2833</td>\n",
       "      <td>C85</td>\n",
       "      <td>C</td>\n",
       "    </tr>\n",
       "    <tr>\n",
       "      <th>2</th>\n",
       "      <td>3</td>\n",
       "      <td>1</td>\n",
       "      <td>3</td>\n",
       "      <td>Heikkinen, Miss. Laina</td>\n",
       "      <td>female</td>\n",
       "      <td>26.0</td>\n",
       "      <td>0</td>\n",
       "      <td>0</td>\n",
       "      <td>STON/O2. 3101282</td>\n",
       "      <td>7.9250</td>\n",
       "      <td>NaN</td>\n",
       "      <td>S</td>\n",
       "    </tr>\n",
       "    <tr>\n",
       "      <th>3</th>\n",
       "      <td>4</td>\n",
       "      <td>1</td>\n",
       "      <td>1</td>\n",
       "      <td>Futrelle, Mrs. Jacques Heath (Lily May Peel)</td>\n",
       "      <td>female</td>\n",
       "      <td>35.0</td>\n",
       "      <td>1</td>\n",
       "      <td>0</td>\n",
       "      <td>113803</td>\n",
       "      <td>53.1000</td>\n",
       "      <td>C123</td>\n",
       "      <td>S</td>\n",
       "    </tr>\n",
       "    <tr>\n",
       "      <th>4</th>\n",
       "      <td>5</td>\n",
       "      <td>0</td>\n",
       "      <td>3</td>\n",
       "      <td>Allen, Mr. William Henry</td>\n",
       "      <td>male</td>\n",
       "      <td>35.0</td>\n",
       "      <td>0</td>\n",
       "      <td>0</td>\n",
       "      <td>373450</td>\n",
       "      <td>8.0500</td>\n",
       "      <td>NaN</td>\n",
       "      <td>S</td>\n",
       "    </tr>\n",
       "  </tbody>\n",
       "</table>\n",
       "</div>"
      ],
      "text/plain": [
       "   PassengerId  Survived  Pclass  \\\n",
       "0            1         0       3   \n",
       "1            2         1       1   \n",
       "2            3         1       3   \n",
       "3            4         1       1   \n",
       "4            5         0       3   \n",
       "\n",
       "                                                Name     Sex   Age  SibSp  \\\n",
       "0                            Braund, Mr. Owen Harris    male  22.0      1   \n",
       "1  Cumings, Mrs. John Bradley (Florence Briggs Th...  female  38.0      1   \n",
       "2                             Heikkinen, Miss. Laina  female  26.0      0   \n",
       "3       Futrelle, Mrs. Jacques Heath (Lily May Peel)  female  35.0      1   \n",
       "4                           Allen, Mr. William Henry    male  35.0      0   \n",
       "\n",
       "   Parch            Ticket     Fare Cabin Embarked  \n",
       "0      0         A/5 21171   7.2500   NaN        S  \n",
       "1      0          PC 17599  71.2833   C85        C  \n",
       "2      0  STON/O2. 3101282   7.9250   NaN        S  \n",
       "3      0            113803  53.1000  C123        S  \n",
       "4      0            373450   8.0500   NaN        S  "
      ]
     },
     "execution_count": 3,
     "metadata": {},
     "output_type": "execute_result"
    }
   ],
   "source": [
    "train.head()"
   ]
  },
  {
   "cell_type": "code",
   "execution_count": 4,
   "id": "e18d5697",
   "metadata": {
    "execution": {
     "iopub.execute_input": "2024-04-20T20:30:44.519186Z",
     "iopub.status.busy": "2024-04-20T20:30:44.518789Z",
     "iopub.status.idle": "2024-04-20T20:30:44.545976Z",
     "shell.execute_reply": "2024-04-20T20:30:44.544752Z"
    },
    "papermill": {
     "duration": 0.050521,
     "end_time": "2024-04-20T20:30:44.548281",
     "exception": false,
     "start_time": "2024-04-20T20:30:44.497760",
     "status": "completed"
    },
    "tags": []
   },
   "outputs": [
    {
     "name": "stdout",
     "output_type": "stream",
     "text": [
      "<class 'pandas.core.frame.DataFrame'>\n",
      "RangeIndex: 891 entries, 0 to 890\n",
      "Data columns (total 12 columns):\n",
      " #   Column       Non-Null Count  Dtype  \n",
      "---  ------       --------------  -----  \n",
      " 0   PassengerId  891 non-null    int64  \n",
      " 1   Survived     891 non-null    int64  \n",
      " 2   Pclass       891 non-null    int64  \n",
      " 3   Name         891 non-null    object \n",
      " 4   Sex          891 non-null    object \n",
      " 5   Age          714 non-null    float64\n",
      " 6   SibSp        891 non-null    int64  \n",
      " 7   Parch        891 non-null    int64  \n",
      " 8   Ticket       891 non-null    object \n",
      " 9   Fare         891 non-null    float64\n",
      " 10  Cabin        204 non-null    object \n",
      " 11  Embarked     889 non-null    object \n",
      "dtypes: float64(2), int64(5), object(5)\n",
      "memory usage: 83.7+ KB\n"
     ]
    }
   ],
   "source": [
    "train.info()"
   ]
  },
  {
   "cell_type": "markdown",
   "id": "3fda2e50",
   "metadata": {
    "papermill": {
     "duration": 0.019705,
     "end_time": "2024-04-20T20:30:44.589080",
     "exception": false,
     "start_time": "2024-04-20T20:30:44.569375",
     "status": "completed"
    },
    "tags": []
   },
   "source": [
    "*  traindataset have 891 rows and 12 columns .\n",
    "*  It consist of int, float and object datatype\n"
   ]
  },
  {
   "cell_type": "markdown",
   "id": "b9ba7577",
   "metadata": {
    "papermill": {
     "duration": 0.019332,
     "end_time": "2024-04-20T20:30:44.628023",
     "exception": false,
     "start_time": "2024-04-20T20:30:44.608691",
     "status": "completed"
    },
    "tags": []
   },
   "source": [
    "### EXPLORATORY DATA ANALYSIS(EDA) ON TRAIN DATASET."
   ]
  },
  {
   "cell_type": "markdown",
   "id": "d5117210",
   "metadata": {
    "papermill": {
     "duration": 0.019857,
     "end_time": "2024-04-20T20:30:44.667639",
     "exception": false,
     "start_time": "2024-04-20T20:30:44.647782",
     "status": "completed"
    },
    "tags": []
   },
   "source": [
    "##### Checking for null values "
   ]
  },
  {
   "cell_type": "code",
   "execution_count": 5,
   "id": "47341ff2",
   "metadata": {
    "execution": {
     "iopub.execute_input": "2024-04-20T20:30:44.709215Z",
     "iopub.status.busy": "2024-04-20T20:30:44.708826Z",
     "iopub.status.idle": "2024-04-20T20:30:44.722735Z",
     "shell.execute_reply": "2024-04-20T20:30:44.721698Z"
    },
    "papermill": {
     "duration": 0.037531,
     "end_time": "2024-04-20T20:30:44.724944",
     "exception": false,
     "start_time": "2024-04-20T20:30:44.687413",
     "status": "completed"
    },
    "tags": []
   },
   "outputs": [
    {
     "data": {
      "text/html": [
       "<div>\n",
       "<style scoped>\n",
       "    .dataframe tbody tr th:only-of-type {\n",
       "        vertical-align: middle;\n",
       "    }\n",
       "\n",
       "    .dataframe tbody tr th {\n",
       "        vertical-align: top;\n",
       "    }\n",
       "\n",
       "    .dataframe thead th {\n",
       "        text-align: right;\n",
       "    }\n",
       "</style>\n",
       "<table border=\"1\" class=\"dataframe\">\n",
       "  <thead>\n",
       "    <tr style=\"text-align: right;\">\n",
       "      <th></th>\n",
       "      <th>Total missing values</th>\n",
       "    </tr>\n",
       "  </thead>\n",
       "  <tbody>\n",
       "    <tr>\n",
       "      <th>PassengerId</th>\n",
       "      <td>0</td>\n",
       "    </tr>\n",
       "    <tr>\n",
       "      <th>Survived</th>\n",
       "      <td>0</td>\n",
       "    </tr>\n",
       "    <tr>\n",
       "      <th>Pclass</th>\n",
       "      <td>0</td>\n",
       "    </tr>\n",
       "    <tr>\n",
       "      <th>Name</th>\n",
       "      <td>0</td>\n",
       "    </tr>\n",
       "    <tr>\n",
       "      <th>Sex</th>\n",
       "      <td>0</td>\n",
       "    </tr>\n",
       "    <tr>\n",
       "      <th>Age</th>\n",
       "      <td>177</td>\n",
       "    </tr>\n",
       "    <tr>\n",
       "      <th>SibSp</th>\n",
       "      <td>0</td>\n",
       "    </tr>\n",
       "    <tr>\n",
       "      <th>Parch</th>\n",
       "      <td>0</td>\n",
       "    </tr>\n",
       "    <tr>\n",
       "      <th>Ticket</th>\n",
       "      <td>0</td>\n",
       "    </tr>\n",
       "    <tr>\n",
       "      <th>Fare</th>\n",
       "      <td>0</td>\n",
       "    </tr>\n",
       "    <tr>\n",
       "      <th>Cabin</th>\n",
       "      <td>687</td>\n",
       "    </tr>\n",
       "    <tr>\n",
       "      <th>Embarked</th>\n",
       "      <td>2</td>\n",
       "    </tr>\n",
       "  </tbody>\n",
       "</table>\n",
       "</div>"
      ],
      "text/plain": [
       "             Total missing values\n",
       "PassengerId                     0\n",
       "Survived                        0\n",
       "Pclass                          0\n",
       "Name                            0\n",
       "Sex                             0\n",
       "Age                           177\n",
       "SibSp                           0\n",
       "Parch                           0\n",
       "Ticket                          0\n",
       "Fare                            0\n",
       "Cabin                         687\n",
       "Embarked                        2"
      ]
     },
     "execution_count": 5,
     "metadata": {},
     "output_type": "execute_result"
    }
   ],
   "source": [
    "null_val = []\n",
    "for i in train.columns:\n",
    "    x = train[i].isnull().sum()\n",
    "    null_val.append(x)\n",
    "    \n",
    "pd.DataFrame(null_val, index = train.columns, columns = ['Total missing values'])    \n",
    "    \n",
    "    "
   ]
  },
  {
   "cell_type": "code",
   "execution_count": 6,
   "id": "1253668a",
   "metadata": {
    "execution": {
     "iopub.execute_input": "2024-04-20T20:30:44.767020Z",
     "iopub.status.busy": "2024-04-20T20:30:44.766631Z",
     "iopub.status.idle": "2024-04-20T20:30:44.785904Z",
     "shell.execute_reply": "2024-04-20T20:30:44.784871Z"
    },
    "papermill": {
     "duration": 0.043095,
     "end_time": "2024-04-20T20:30:44.788204",
     "exception": false,
     "start_time": "2024-04-20T20:30:44.745109",
     "status": "completed"
    },
    "tags": []
   },
   "outputs": [
    {
     "data": {
      "text/html": [
       "<div>\n",
       "<style scoped>\n",
       "    .dataframe tbody tr th:only-of-type {\n",
       "        vertical-align: middle;\n",
       "    }\n",
       "\n",
       "    .dataframe tbody tr th {\n",
       "        vertical-align: top;\n",
       "    }\n",
       "\n",
       "    .dataframe thead th {\n",
       "        text-align: right;\n",
       "    }\n",
       "</style>\n",
       "<table border=\"1\" class=\"dataframe\">\n",
       "  <thead>\n",
       "    <tr style=\"text-align: right;\">\n",
       "      <th></th>\n",
       "      <th>PassengerId</th>\n",
       "      <th>Survived</th>\n",
       "      <th>Pclass</th>\n",
       "      <th>Name</th>\n",
       "      <th>Sex</th>\n",
       "      <th>Age</th>\n",
       "      <th>SibSp</th>\n",
       "      <th>Parch</th>\n",
       "      <th>Ticket</th>\n",
       "      <th>Fare</th>\n",
       "      <th>Embarked</th>\n",
       "    </tr>\n",
       "  </thead>\n",
       "  <tbody>\n",
       "    <tr>\n",
       "      <th>0</th>\n",
       "      <td>1</td>\n",
       "      <td>0</td>\n",
       "      <td>3</td>\n",
       "      <td>Braund, Mr. Owen Harris</td>\n",
       "      <td>male</td>\n",
       "      <td>22.0</td>\n",
       "      <td>1</td>\n",
       "      <td>0</td>\n",
       "      <td>A/5 21171</td>\n",
       "      <td>7.2500</td>\n",
       "      <td>S</td>\n",
       "    </tr>\n",
       "    <tr>\n",
       "      <th>1</th>\n",
       "      <td>2</td>\n",
       "      <td>1</td>\n",
       "      <td>1</td>\n",
       "      <td>Cumings, Mrs. John Bradley (Florence Briggs Th...</td>\n",
       "      <td>female</td>\n",
       "      <td>38.0</td>\n",
       "      <td>1</td>\n",
       "      <td>0</td>\n",
       "      <td>PC 17599</td>\n",
       "      <td>71.2833</td>\n",
       "      <td>C</td>\n",
       "    </tr>\n",
       "    <tr>\n",
       "      <th>2</th>\n",
       "      <td>3</td>\n",
       "      <td>1</td>\n",
       "      <td>3</td>\n",
       "      <td>Heikkinen, Miss. Laina</td>\n",
       "      <td>female</td>\n",
       "      <td>26.0</td>\n",
       "      <td>0</td>\n",
       "      <td>0</td>\n",
       "      <td>STON/O2. 3101282</td>\n",
       "      <td>7.9250</td>\n",
       "      <td>S</td>\n",
       "    </tr>\n",
       "    <tr>\n",
       "      <th>3</th>\n",
       "      <td>4</td>\n",
       "      <td>1</td>\n",
       "      <td>1</td>\n",
       "      <td>Futrelle, Mrs. Jacques Heath (Lily May Peel)</td>\n",
       "      <td>female</td>\n",
       "      <td>35.0</td>\n",
       "      <td>1</td>\n",
       "      <td>0</td>\n",
       "      <td>113803</td>\n",
       "      <td>53.1000</td>\n",
       "      <td>S</td>\n",
       "    </tr>\n",
       "    <tr>\n",
       "      <th>4</th>\n",
       "      <td>5</td>\n",
       "      <td>0</td>\n",
       "      <td>3</td>\n",
       "      <td>Allen, Mr. William Henry</td>\n",
       "      <td>male</td>\n",
       "      <td>35.0</td>\n",
       "      <td>0</td>\n",
       "      <td>0</td>\n",
       "      <td>373450</td>\n",
       "      <td>8.0500</td>\n",
       "      <td>S</td>\n",
       "    </tr>\n",
       "  </tbody>\n",
       "</table>\n",
       "</div>"
      ],
      "text/plain": [
       "   PassengerId  Survived  Pclass  \\\n",
       "0            1         0       3   \n",
       "1            2         1       1   \n",
       "2            3         1       3   \n",
       "3            4         1       1   \n",
       "4            5         0       3   \n",
       "\n",
       "                                                Name     Sex   Age  SibSp  \\\n",
       "0                            Braund, Mr. Owen Harris    male  22.0      1   \n",
       "1  Cumings, Mrs. John Bradley (Florence Briggs Th...  female  38.0      1   \n",
       "2                             Heikkinen, Miss. Laina  female  26.0      0   \n",
       "3       Futrelle, Mrs. Jacques Heath (Lily May Peel)  female  35.0      1   \n",
       "4                           Allen, Mr. William Henry    male  35.0      0   \n",
       "\n",
       "   Parch            Ticket     Fare Embarked  \n",
       "0      0         A/5 21171   7.2500        S  \n",
       "1      0          PC 17599  71.2833        C  \n",
       "2      0  STON/O2. 3101282   7.9250        S  \n",
       "3      0            113803  53.1000        S  \n",
       "4      0            373450   8.0500        S  "
      ]
     },
     "execution_count": 6,
     "metadata": {},
     "output_type": "execute_result"
    }
   ],
   "source": [
    "#we can remove the cabin column as it not affecting our prediction \n",
    "\n",
    "train.drop(['Cabin'], axis = 1, inplace = True)\n",
    "train.head()"
   ]
  },
  {
   "cell_type": "code",
   "execution_count": 7,
   "id": "381f2597",
   "metadata": {
    "execution": {
     "iopub.execute_input": "2024-04-20T20:30:44.831197Z",
     "iopub.status.busy": "2024-04-20T20:30:44.830266Z",
     "iopub.status.idle": "2024-04-20T20:30:44.843365Z",
     "shell.execute_reply": "2024-04-20T20:30:44.842339Z"
    },
    "papermill": {
     "duration": 0.037186,
     "end_time": "2024-04-20T20:30:44.845555",
     "exception": false,
     "start_time": "2024-04-20T20:30:44.808369",
     "status": "completed"
    },
    "tags": []
   },
   "outputs": [
    {
     "data": {
      "text/html": [
       "<div>\n",
       "<style scoped>\n",
       "    .dataframe tbody tr th:only-of-type {\n",
       "        vertical-align: middle;\n",
       "    }\n",
       "\n",
       "    .dataframe tbody tr th {\n",
       "        vertical-align: top;\n",
       "    }\n",
       "\n",
       "    .dataframe thead th {\n",
       "        text-align: right;\n",
       "    }\n",
       "</style>\n",
       "<table border=\"1\" class=\"dataframe\">\n",
       "  <thead>\n",
       "    <tr style=\"text-align: right;\">\n",
       "      <th></th>\n",
       "      <th>Total missing values</th>\n",
       "    </tr>\n",
       "  </thead>\n",
       "  <tbody>\n",
       "    <tr>\n",
       "      <th>PassengerId</th>\n",
       "      <td>0</td>\n",
       "    </tr>\n",
       "    <tr>\n",
       "      <th>Survived</th>\n",
       "      <td>0</td>\n",
       "    </tr>\n",
       "    <tr>\n",
       "      <th>Pclass</th>\n",
       "      <td>0</td>\n",
       "    </tr>\n",
       "    <tr>\n",
       "      <th>Name</th>\n",
       "      <td>0</td>\n",
       "    </tr>\n",
       "    <tr>\n",
       "      <th>Sex</th>\n",
       "      <td>0</td>\n",
       "    </tr>\n",
       "    <tr>\n",
       "      <th>Age</th>\n",
       "      <td>177</td>\n",
       "    </tr>\n",
       "    <tr>\n",
       "      <th>SibSp</th>\n",
       "      <td>0</td>\n",
       "    </tr>\n",
       "    <tr>\n",
       "      <th>Parch</th>\n",
       "      <td>0</td>\n",
       "    </tr>\n",
       "    <tr>\n",
       "      <th>Ticket</th>\n",
       "      <td>0</td>\n",
       "    </tr>\n",
       "    <tr>\n",
       "      <th>Fare</th>\n",
       "      <td>0</td>\n",
       "    </tr>\n",
       "    <tr>\n",
       "      <th>Embarked</th>\n",
       "      <td>2</td>\n",
       "    </tr>\n",
       "  </tbody>\n",
       "</table>\n",
       "</div>"
      ],
      "text/plain": [
       "             Total missing values\n",
       "PassengerId                     0\n",
       "Survived                        0\n",
       "Pclass                          0\n",
       "Name                            0\n",
       "Sex                             0\n",
       "Age                           177\n",
       "SibSp                           0\n",
       "Parch                           0\n",
       "Ticket                          0\n",
       "Fare                            0\n",
       "Embarked                        2"
      ]
     },
     "execution_count": 7,
     "metadata": {},
     "output_type": "execute_result"
    }
   ],
   "source": [
    "null_val = []\n",
    "for i in train.columns:\n",
    "    x = train[i].isnull().sum()\n",
    "    null_val.append(x)\n",
    "    \n",
    "pd.DataFrame(null_val, index = train.columns, columns = ['Total missing values'])    \n",
    "    \n",
    "    "
   ]
  },
  {
   "cell_type": "code",
   "execution_count": 8,
   "id": "337fb52c",
   "metadata": {
    "execution": {
     "iopub.execute_input": "2024-04-20T20:30:44.946379Z",
     "iopub.status.busy": "2024-04-20T20:30:44.945441Z",
     "iopub.status.idle": "2024-04-20T20:30:46.612982Z",
     "shell.execute_reply": "2024-04-20T20:30:46.611837Z"
    },
    "papermill": {
     "duration": 1.749569,
     "end_time": "2024-04-20T20:30:46.615353",
     "exception": false,
     "start_time": "2024-04-20T20:30:44.865784",
     "status": "completed"
    },
    "tags": []
   },
   "outputs": [
    {
     "data": {
      "text/plain": [
       "<Axes: xlabel='Pclass', ylabel='Age'>"
      ]
     },
     "execution_count": 8,
     "metadata": {},
     "output_type": "execute_result"
    },
    {
     "data": {
      "image/png": "[encoded data removed]",
      "text/plain": [
       "<Figure size 1000x600 with 1 Axes>"
      ]
     },
     "metadata": {},
     "output_type": "display_data"
    }
   ],
   "source": [
    "#fill the nan values in age column with the age of ticket holders according to Pclass\n",
    "import matplotlib.pyplot as plt\n",
    "import seaborn as sns\n",
    "plt.figure(figsize = (10,6))\n",
    "sns.boxplot(x = \"Pclass\", y = \"Age\", data = train)"
   ]
  },
  {
   "cell_type": "markdown",
   "id": "47735f85",
   "metadata": {
    "papermill": {
     "duration": 0.020738,
     "end_time": "2024-04-20T20:30:46.657295",
     "exception": false,
     "start_time": "2024-04-20T20:30:46.636557",
     "status": "completed"
    },
    "tags": []
   },
   "source": [
    "* From the graph we can deduct that the quality of ticket class increases as age increases. In other words, those that are older tends to buy first class tickets.\n",
    "\n",
    "* Passengers with Pclass 1 have an average age of 38.\n",
    "\n",
    "* Passengers with Pclass 2 have an average age of 29.\n",
    "\n",
    "* Passengers with Pclass 3 have an average age of 23.\n",
    "\n"
   ]
  },
  {
   "cell_type": "code",
   "execution_count": 9,
   "id": "f2384163",
   "metadata": {
    "execution": {
     "iopub.execute_input": "2024-04-20T20:30:46.700706Z",
     "iopub.status.busy": "2024-04-20T20:30:46.700299Z",
     "iopub.status.idle": "2024-04-20T20:30:46.883342Z",
     "shell.execute_reply": "2024-04-20T20:30:46.882208Z"
    },
    "papermill": {
     "duration": 0.208937,
     "end_time": "2024-04-20T20:30:46.886997",
     "exception": false,
     "start_time": "2024-04-20T20:30:46.678060",
     "status": "completed"
    },
    "tags": []
   },
   "outputs": [
    {
     "name": "stdout",
     "output_type": "stream",
     "text": [
      "891\n",
      "22.0\n",
      "2.0\n",
      "14.0\n",
      "4.0\n",
      "20.0\n",
      "14.0\n",
      "2.0\n",
      "15.0\n",
      "8.0\n",
      "19.0\n",
      "21.0\n",
      "18.0\n",
      "14.0\n",
      "3.0\n",
      "19.0\n",
      "18.0\n",
      "7.0\n",
      "21.0\n",
      "21.0\n",
      "5.0\n",
      "11.0\n",
      "22.0\n",
      "4.0\n",
      "19.0\n",
      "17.0\n",
      "16.0\n",
      "21.0\n",
      "0.83\n",
      "22.0\n",
      "17.0\n",
      "16.0\n",
      "20.0\n",
      "21.0\n",
      "21.0\n",
      "14.5\n",
      "22.0\n",
      "20.0\n",
      "17.0\n",
      "21.0\n",
      "2.0\n",
      "21.0\n",
      "12.0\n",
      "20.0\n",
      "19.0\n",
      "16.0\n",
      "22.0\n",
      "19.0\n",
      "18.0\n",
      "19.0\n",
      "9.0\n",
      "22.0\n",
      "16.0\n",
      "17.0\n",
      "1.0\n",
      "9.0\n",
      "4.0\n",
      "1.0\n",
      "21.0\n",
      "18.0\n",
      "9.0\n",
      "1.0\n",
      "4.0\n",
      "19.0\n",
      "19.0\n",
      "3.0\n",
      "18.0\n",
      "2.0\n",
      "16.0\n",
      "22.0\n",
      "16.0\n",
      "22.0\n",
      "19.0\n",
      "20.5\n",
      "18.0\n",
      "5.0\n",
      "8.0\n",
      "19.0\n",
      "22.0\n",
      "3.0\n",
      "16.0\n",
      "7.0\n",
      "16.0\n",
      "19.0\n",
      "22.0\n",
      "22.0\n",
      "19.0\n",
      "2.0\n",
      "19.0\n",
      "0.92\n",
      "17.0\n",
      "18.0\n",
      "22.0\n",
      "22.0\n",
      "16.0\n",
      "16.0\n",
      "2.0\n",
      "3.0\n",
      "15.0\n",
      "22.0\n",
      "18.0\n",
      "19.0\n",
      "22.0\n",
      "3.0\n",
      "22.0\n",
      "20.0\n",
      "19.0\n",
      "1.0\n",
      "18.0\n",
      "1.0\n",
      "17.0\n",
      "21.0\n",
      "22.0\n",
      "21.0\n",
      "20.0\n",
      "3.0\n",
      "21.0\n",
      "18.0\n",
      "10.0\n",
      "21.0\n",
      "18.0\n",
      "19.0\n",
      "17.0\n",
      "14.0\n",
      "21.0\n",
      "20.0\n",
      "4.0\n",
      "13.0\n",
      "5.0\n",
      "0.75\n",
      "22.0\n",
      "22.0\n",
      "2.0\n",
      "9.0\n",
      "9.0\n",
      "21.0\n",
      "21.0\n",
      "17.0\n",
      "21.0\n",
      "16.0\n",
      "18.0\n",
      "22.0\n",
      "2.0\n",
      "17.0\n",
      "7.0\n",
      "22.0\n",
      "9.0\n",
      "11.0\n",
      "19.0\n",
      "8.0\n",
      "17.0\n",
      "22.0\n",
      "22.0\n",
      "19.0\n",
      "16.0\n",
      "19.0\n",
      "18.0\n",
      "22.0\n",
      "22.0\n",
      "4.0\n",
      "20.0\n",
      "21.0\n",
      "21.0\n",
      "21.0\n",
      "9.0\n",
      "20.0\n",
      "2.0\n",
      "0.75\n",
      "19.0\n",
      "18.0\n",
      "21.0\n",
      "18.0\n",
      "20.0\n",
      "18.0\n",
      "18.0\n",
      "20.0\n",
      "14.0\n",
      "14.0\n",
      "19.0\n",
      "18.0\n",
      "15.0\n",
      "4.0\n",
      "18.0\n",
      "18.0\n",
      "22.0\n",
      "19.0\n",
      "6.0\n",
      "17.0\n",
      "20.0\n",
      "11.0\n",
      "21.0\n",
      "16.0\n",
      "19.0\n",
      "4.0\n",
      "6.0\n",
      "0.67\n",
      "18.0\n",
      "20.0\n",
      "16.0\n",
      "18.0\n",
      "5.0\n",
      "13.0\n",
      "17.0\n",
      "18.0\n",
      "8.0\n",
      "1.0\n",
      "16.0\n",
      "11.0\n",
      "0.42\n",
      "18.0\n",
      "6.0\n",
      "10.0\n",
      "2.0\n",
      "1.0\n",
      "15.0\n",
      "0.83\n",
      "18.0\n",
      "21.0\n",
      "20.0\n",
      "16.0\n",
      "17.0\n",
      "4.0\n",
      "9.0\n",
      "16.0\n",
      "18.0\n",
      "21.0\n",
      "4.0\n",
      "15.0\n",
      "20.0\n",
      "19.0\n",
      "22.0\n",
      "19.0\n"
     ]
    }
   ],
   "source": [
    "num_rows = len(train)\n",
    "print(num_rows)\n",
    "cnt=0\n",
    "for i in range(num_rows):\n",
    "   # print(train.iloc[i]['Age'])\n",
    "    if train.iloc[i]['Age']<23:\n",
    "        cnt+=1\n",
    "        print(train.iloc[i]['Age'])\n",
    "        if train.iloc[i]['Pclass']==1:\n",
    "             train.loc[i, 'Age'] =38\n",
    "        elif train.iloc[i]['Pclass']==2:\n",
    "             train.loc[i, 'Age'] =29\n",
    "        else:\n",
    "             train.loc[i, 'Age'] =23\n",
    "#print(cnt)"
   ]
  },
  {
   "cell_type": "code",
   "execution_count": 10,
   "id": "ee7ffb53",
   "metadata": {
    "execution": {
     "iopub.execute_input": "2024-04-20T20:30:46.931439Z",
     "iopub.status.busy": "2024-04-20T20:30:46.931038Z",
     "iopub.status.idle": "2024-04-20T20:30:46.945190Z",
     "shell.execute_reply": "2024-04-20T20:30:46.944207Z"
    },
    "papermill": {
     "duration": 0.039015,
     "end_time": "2024-04-20T20:30:46.947522",
     "exception": false,
     "start_time": "2024-04-20T20:30:46.908507",
     "status": "completed"
    },
    "tags": []
   },
   "outputs": [
    {
     "data": {
      "text/html": [
       "<div>\n",
       "<style scoped>\n",
       "    .dataframe tbody tr th:only-of-type {\n",
       "        vertical-align: middle;\n",
       "    }\n",
       "\n",
       "    .dataframe tbody tr th {\n",
       "        vertical-align: top;\n",
       "    }\n",
       "\n",
       "    .dataframe thead th {\n",
       "        text-align: right;\n",
       "    }\n",
       "</style>\n",
       "<table border=\"1\" class=\"dataframe\">\n",
       "  <thead>\n",
       "    <tr style=\"text-align: right;\">\n",
       "      <th></th>\n",
       "      <th>Total Missing Values</th>\n",
       "    </tr>\n",
       "  </thead>\n",
       "  <tbody>\n",
       "    <tr>\n",
       "      <th>PassengerId</th>\n",
       "      <td>0</td>\n",
       "    </tr>\n",
       "    <tr>\n",
       "      <th>Survived</th>\n",
       "      <td>0</td>\n",
       "    </tr>\n",
       "    <tr>\n",
       "      <th>Pclass</th>\n",
       "      <td>0</td>\n",
       "    </tr>\n",
       "    <tr>\n",
       "      <th>Name</th>\n",
       "      <td>0</td>\n",
       "    </tr>\n",
       "    <tr>\n",
       "      <th>Sex</th>\n",
       "      <td>0</td>\n",
       "    </tr>\n",
       "    <tr>\n",
       "      <th>Age</th>\n",
       "      <td>177</td>\n",
       "    </tr>\n",
       "    <tr>\n",
       "      <th>SibSp</th>\n",
       "      <td>0</td>\n",
       "    </tr>\n",
       "    <tr>\n",
       "      <th>Parch</th>\n",
       "      <td>0</td>\n",
       "    </tr>\n",
       "    <tr>\n",
       "      <th>Ticket</th>\n",
       "      <td>0</td>\n",
       "    </tr>\n",
       "    <tr>\n",
       "      <th>Fare</th>\n",
       "      <td>0</td>\n",
       "    </tr>\n",
       "    <tr>\n",
       "      <th>Embarked</th>\n",
       "      <td>2</td>\n",
       "    </tr>\n",
       "  </tbody>\n",
       "</table>\n",
       "</div>"
      ],
      "text/plain": [
       "             Total Missing Values\n",
       "PassengerId                     0\n",
       "Survived                        0\n",
       "Pclass                          0\n",
       "Name                            0\n",
       "Sex                             0\n",
       "Age                           177\n",
       "SibSp                           0\n",
       "Parch                           0\n",
       "Ticket                          0\n",
       "Fare                            0\n",
       "Embarked                        2"
      ]
     },
     "execution_count": 10,
     "metadata": {},
     "output_type": "execute_result"
    }
   ],
   "source": [
    "null_num = []\n",
    "for i in train.columns:\n",
    "    x = train[i].isnull().sum()\n",
    "    null_num.append(x)\n",
    "    \n",
    "\n",
    "pd.DataFrame(null_num, index = train.columns, columns = [\"Total Missing Values\"])"
   ]
  },
  {
   "cell_type": "code",
   "execution_count": 11,
   "id": "3c6fb18e",
   "metadata": {
    "execution": {
     "iopub.execute_input": "2024-04-20T20:30:46.992426Z",
     "iopub.status.busy": "2024-04-20T20:30:46.991493Z",
     "iopub.status.idle": "2024-04-20T20:30:46.998455Z",
     "shell.execute_reply": "2024-04-20T20:30:46.997482Z"
    },
    "papermill": {
     "duration": 0.03171,
     "end_time": "2024-04-20T20:30:47.000676",
     "exception": false,
     "start_time": "2024-04-20T20:30:46.968966",
     "status": "completed"
    },
    "tags": []
   },
   "outputs": [],
   "source": [
    "#\"Embarked\" has two missing values, so drop the values\n",
    "train.dropna(inplace = True)"
   ]
  },
  {
   "cell_type": "code",
   "execution_count": 12,
   "id": "aa51714e",
   "metadata": {
    "execution": {
     "iopub.execute_input": "2024-04-20T20:30:47.046245Z",
     "iopub.status.busy": "2024-04-20T20:30:47.045880Z",
     "iopub.status.idle": "2024-04-20T20:30:47.058657Z",
     "shell.execute_reply": "2024-04-20T20:30:47.057611Z"
    },
    "papermill": {
     "duration": 0.037661,
     "end_time": "2024-04-20T20:30:47.060879",
     "exception": false,
     "start_time": "2024-04-20T20:30:47.023218",
     "status": "completed"
    },
    "tags": []
   },
   "outputs": [
    {
     "data": {
      "text/html": [
       "<div>\n",
       "<style scoped>\n",
       "    .dataframe tbody tr th:only-of-type {\n",
       "        vertical-align: middle;\n",
       "    }\n",
       "\n",
       "    .dataframe tbody tr th {\n",
       "        vertical-align: top;\n",
       "    }\n",
       "\n",
       "    .dataframe thead th {\n",
       "        text-align: right;\n",
       "    }\n",
       "</style>\n",
       "<table border=\"1\" class=\"dataframe\">\n",
       "  <thead>\n",
       "    <tr style=\"text-align: right;\">\n",
       "      <th></th>\n",
       "      <th>Total Missing Values</th>\n",
       "    </tr>\n",
       "  </thead>\n",
       "  <tbody>\n",
       "    <tr>\n",
       "      <th>PassengerId</th>\n",
       "      <td>0</td>\n",
       "    </tr>\n",
       "    <tr>\n",
       "      <th>Survived</th>\n",
       "      <td>0</td>\n",
       "    </tr>\n",
       "    <tr>\n",
       "      <th>Pclass</th>\n",
       "      <td>0</td>\n",
       "    </tr>\n",
       "    <tr>\n",
       "      <th>Name</th>\n",
       "      <td>0</td>\n",
       "    </tr>\n",
       "    <tr>\n",
       "      <th>Sex</th>\n",
       "      <td>0</td>\n",
       "    </tr>\n",
       "    <tr>\n",
       "      <th>Age</th>\n",
       "      <td>0</td>\n",
       "    </tr>\n",
       "    <tr>\n",
       "      <th>SibSp</th>\n",
       "      <td>0</td>\n",
       "    </tr>\n",
       "    <tr>\n",
       "      <th>Parch</th>\n",
       "      <td>0</td>\n",
       "    </tr>\n",
       "    <tr>\n",
       "      <th>Ticket</th>\n",
       "      <td>0</td>\n",
       "    </tr>\n",
       "    <tr>\n",
       "      <th>Fare</th>\n",
       "      <td>0</td>\n",
       "    </tr>\n",
       "    <tr>\n",
       "      <th>Embarked</th>\n",
       "      <td>0</td>\n",
       "    </tr>\n",
       "  </tbody>\n",
       "</table>\n",
       "</div>"
      ],
      "text/plain": [
       "             Total Missing Values\n",
       "PassengerId                     0\n",
       "Survived                        0\n",
       "Pclass                          0\n",
       "Name                            0\n",
       "Sex                             0\n",
       "Age                             0\n",
       "SibSp                           0\n",
       "Parch                           0\n",
       "Ticket                          0\n",
       "Fare                            0\n",
       "Embarked                        0"
      ]
     },
     "execution_count": 12,
     "metadata": {},
     "output_type": "execute_result"
    }
   ],
   "source": [
    "null_num = []\n",
    "for i in train.columns:\n",
    "    x = train[i].isnull().sum()\n",
    "    null_num.append(x)\n",
    "    \n",
    "\n",
    "pd.DataFrame(null_num, index = train.columns, columns = [\"Total Missing Values\"])"
   ]
  },
  {
   "cell_type": "code",
   "execution_count": 13,
   "id": "aabd2269",
   "metadata": {
    "execution": {
     "iopub.execute_input": "2024-04-20T20:30:47.106639Z",
     "iopub.status.busy": "2024-04-20T20:30:47.105794Z",
     "iopub.status.idle": "2024-04-20T20:30:47.350384Z",
     "shell.execute_reply": "2024-04-20T20:30:47.349172Z"
    },
    "papermill": {
     "duration": 0.270314,
     "end_time": "2024-04-20T20:30:47.352881",
     "exception": false,
     "start_time": "2024-04-20T20:30:47.082567",
     "status": "completed"
    },
    "tags": []
   },
   "outputs": [
    {
     "data": {
      "text/plain": [
       "<Axes: xlabel='Survived', ylabel='count'>"
      ]
     },
     "execution_count": 13,
     "metadata": {},
     "output_type": "execute_result"
    },
    {
     "data": {
      "image/png": "[encoded data removed]",
      "text/plain": [
       "<Figure size 640x480 with 1 Axes>"
      ]
     },
     "metadata": {},
     "output_type": "display_data"
    }
   ],
   "source": [
    "sns.set_style(\"darkgrid\")\n",
    "sns.countplot(x = \"Survived\", data = train, palette = \"viridis\")"
   ]
  },
  {
   "cell_type": "code",
   "execution_count": 14,
   "id": "18dee3bf",
   "metadata": {
    "execution": {
     "iopub.execute_input": "2024-04-20T20:30:47.400159Z",
     "iopub.status.busy": "2024-04-20T20:30:47.399779Z",
     "iopub.status.idle": "2024-04-20T20:30:47.409509Z",
     "shell.execute_reply": "2024-04-20T20:30:47.408554Z"
    },
    "papermill": {
     "duration": 0.035709,
     "end_time": "2024-04-20T20:30:47.411760",
     "exception": false,
     "start_time": "2024-04-20T20:30:47.376051",
     "status": "completed"
    },
    "tags": []
   },
   "outputs": [
    {
     "data": {
      "text/plain": [
       "Survived\n",
       "0    424\n",
       "1    288\n",
       "Name: count, dtype: int64"
      ]
     },
     "execution_count": 14,
     "metadata": {},
     "output_type": "execute_result"
    }
   ],
   "source": [
    "train.Survived.value_counts()"
   ]
  },
  {
   "cell_type": "markdown",
   "id": "971c16ba",
   "metadata": {
    "papermill": {
     "duration": 0.022328,
     "end_time": "2024-04-20T20:30:47.457471",
     "exception": false,
     "start_time": "2024-04-20T20:30:47.435143",
     "status": "completed"
    },
    "tags": []
   },
   "source": [
    "* Are there any factor(s) that affects the survival of a passenger?\n",
    "\n",
    "\n",
    "\n",
    "* What's the effect of gender variable on survival?"
   ]
  },
  {
   "cell_type": "code",
   "execution_count": 15,
   "id": "a0eb12bc",
   "metadata": {
    "execution": {
     "iopub.execute_input": "2024-04-20T20:30:47.503356Z",
     "iopub.status.busy": "2024-04-20T20:30:47.502974Z",
     "iopub.status.idle": "2024-04-20T20:30:47.785012Z",
     "shell.execute_reply": "2024-04-20T20:30:47.783733Z"
    },
    "papermill": {
     "duration": 0.307931,
     "end_time": "2024-04-20T20:30:47.787525",
     "exception": false,
     "start_time": "2024-04-20T20:30:47.479594",
     "status": "completed"
    },
    "tags": []
   },
   "outputs": [
    {
     "data": {
      "text/plain": [
       "<Axes: xlabel='Survived', ylabel='count'>"
      ]
     },
     "execution_count": 15,
     "metadata": {},
     "output_type": "execute_result"
    },
    {
     "data": {
      "image/png": "[encoded data removed]",
      "text/plain": [
       "<Figure size 640x480 with 1 Axes>"
      ]
     },
     "metadata": {},
     "output_type": "display_data"
    }
   ],
   "source": [
    "sns.set_style(\"darkgrid\")\n",
    "sns.countplot(x = \"Survived\", hue = \"Sex\", data = train)"
   ]
  },
  {
   "cell_type": "code",
   "execution_count": 16,
   "id": "67cc96e9",
   "metadata": {
    "execution": {
     "iopub.execute_input": "2024-04-20T20:30:47.836639Z",
     "iopub.status.busy": "2024-04-20T20:30:47.835970Z",
     "iopub.status.idle": "2024-04-20T20:30:48.180306Z",
     "shell.execute_reply": "2024-04-20T20:30:48.179153Z"
    },
    "papermill": {
     "duration": 0.370531,
     "end_time": "2024-04-20T20:30:48.182784",
     "exception": false,
     "start_time": "2024-04-20T20:30:47.812253",
     "status": "completed"
    },
    "tags": []
   },
   "outputs": [
    {
     "data": {
      "image/png": "[encoded data removed]",
      "text/plain": [
       "<Figure size 600x400 with 1 Axes>"
      ]
     },
     "metadata": {},
     "output_type": "display_data"
    }
   ],
   "source": [
    "# Group the data by 'Sex' and calculate the survival rate\n",
    "survival_by_sex = train.groupby('Sex')['Survived'].mean()\n",
    "\n",
    "# Plot the survival rate by gender\n",
    "plt.figure(figsize=(6, 4))\n",
    "bars = survival_by_sex.plot(kind='bar', color=['blue', 'pink'], alpha=0.7)\n",
    "plt.title('Survival Rate by Gender')\n",
    "plt.xlabel('Gender')\n",
    "plt.ylabel('Survival Rate')\n",
    "plt.xticks(rotation=0)\n",
    "\n",
    "# Annotate the bars with survival percentage at the top\n",
    "for bar in bars.patches:\n",
    "    plt.text(bar.get_x() + bar.get_width() / 2, bar.get_height(), f\"{bar.get_height()*100:.2f}%\", \n",
    "             ha='center', va='bottom')\n",
    "\n",
    "plt.tight_layout()\n",
    "plt.show()\n"
   ]
  },
  {
   "cell_type": "markdown",
   "id": "2c635074",
   "metadata": {
    "papermill": {
     "duration": 0.024053,
     "end_time": "2024-04-20T20:30:48.231779",
     "exception": false,
     "start_time": "2024-04-20T20:30:48.207726",
     "status": "completed"
    },
    "tags": []
   },
   "source": [
    "Majority of people that died were men. This might mean that women were given priority to be saved."
   ]
  },
  {
   "cell_type": "code",
   "execution_count": 17,
   "id": "e7dc0313",
   "metadata": {
    "execution": {
     "iopub.execute_input": "2024-04-20T20:30:48.279706Z",
     "iopub.status.busy": "2024-04-20T20:30:48.279318Z",
     "iopub.status.idle": "2024-04-20T20:30:48.576134Z",
     "shell.execute_reply": "2024-04-20T20:30:48.574833Z"
    },
    "papermill": {
     "duration": 0.32372,
     "end_time": "2024-04-20T20:30:48.578596",
     "exception": false,
     "start_time": "2024-04-20T20:30:48.254876",
     "status": "completed"
    },
    "tags": []
   },
   "outputs": [
    {
     "data": {
      "text/plain": [
       "<Axes: xlabel='Survived', ylabel='count'>"
      ]
     },
     "execution_count": 17,
     "metadata": {},
     "output_type": "execute_result"
    },
    {
     "data": {
      "image/png": "[encoded data removed]",
      "text/plain": [
       "<Figure size 640x480 with 1 Axes>"
      ]
     },
     "metadata": {},
     "output_type": "display_data"
    }
   ],
   "source": [
    "#Boarding ports\n",
    "sns.set_style(\"darkgrid\")\n",
    "sns.countplot(x = \"Survived\", hue = \"Embarked\", data = train)"
   ]
  },
  {
   "cell_type": "code",
   "execution_count": 18,
   "id": "8f3a3a3b",
   "metadata": {
    "execution": {
     "iopub.execute_input": "2024-04-20T20:30:48.628366Z",
     "iopub.status.busy": "2024-04-20T20:30:48.627363Z",
     "iopub.status.idle": "2024-04-20T20:30:48.635677Z",
     "shell.execute_reply": "2024-04-20T20:30:48.634729Z"
    },
    "papermill": {
     "duration": 0.035449,
     "end_time": "2024-04-20T20:30:48.637863",
     "exception": false,
     "start_time": "2024-04-20T20:30:48.602414",
     "status": "completed"
    },
    "tags": []
   },
   "outputs": [
    {
     "data": {
      "text/plain": [
       "Embarked\n",
       "S    554\n",
       "C    130\n",
       "Q     28\n",
       "Name: count, dtype: int64"
      ]
     },
     "execution_count": 18,
     "metadata": {},
     "output_type": "execute_result"
    }
   ],
   "source": [
    "train.Embarked.value_counts()"
   ]
  },
  {
   "cell_type": "markdown",
   "id": "fdd83ed1",
   "metadata": {
    "papermill": {
     "duration": 0.023255,
     "end_time": "2024-04-20T20:30:48.684433",
     "exception": false,
     "start_time": "2024-04-20T20:30:48.661178",
     "status": "completed"
    },
    "tags": []
   },
   "source": [
    "Most people that died boarded from Southampton, this may be because more passengers boarded from there."
   ]
  },
  {
   "cell_type": "code",
   "execution_count": 19,
   "id": "669bb5a9",
   "metadata": {
    "execution": {
     "iopub.execute_input": "2024-04-20T20:30:48.734800Z",
     "iopub.status.busy": "2024-04-20T20:30:48.733747Z",
     "iopub.status.idle": "2024-04-20T20:30:49.321131Z",
     "shell.execute_reply": "2024-04-20T20:30:49.319577Z"
    },
    "papermill": {
     "duration": 0.615987,
     "end_time": "2024-04-20T20:30:49.324145",
     "exception": false,
     "start_time": "2024-04-20T20:30:48.708158",
     "status": "completed"
    },
    "tags": []
   },
   "outputs": [
    {
     "name": "stderr",
     "output_type": "stream",
     "text": [
      "/opt/conda/lib/python3.10/site-packages/seaborn/_oldcore.py:1119: FutureWarning: use_inf_as_na option is deprecated and will be removed in a future version. Convert inf values to NaN before operating instead.\n",
      "  with pd.option_context('mode.use_inf_as_na', True):\n"
     ]
    },
    {
     "data": {
      "text/plain": [
       "<seaborn.axisgrid.FacetGrid at 0x79f2c16230a0>"
      ]
     },
     "execution_count": 19,
     "metadata": {},
     "output_type": "execute_result"
    },
    {
     "data": {
      "text/plain": [
       "<Figure size 1000x600 with 0 Axes>"
      ]
     },
     "metadata": {},
     "output_type": "display_data"
    },
    {
     "data": {
      "image/png": "[encoded data removed]",
      "text/plain": [
       "<Figure size 500x500 with 1 Axes>"
      ]
     },
     "metadata": {},
     "output_type": "display_data"
    }
   ],
   "source": [
    "plt.figure(figsize = (10, 6))\n",
    "sns.displot(train[\"Age\"], color = \"darkred\")"
   ]
  },
  {
   "cell_type": "code",
   "execution_count": 20,
   "id": "89619ad0",
   "metadata": {
    "execution": {
     "iopub.execute_input": "2024-04-20T20:30:49.380562Z",
     "iopub.status.busy": "2024-04-20T20:30:49.379553Z",
     "iopub.status.idle": "2024-04-20T20:30:50.088435Z",
     "shell.execute_reply": "2024-04-20T20:30:50.087382Z"
    },
    "papermill": {
     "duration": 0.73641,
     "end_time": "2024-04-20T20:30:50.090983",
     "exception": false,
     "start_time": "2024-04-20T20:30:49.354573",
     "status": "completed"
    },
    "tags": []
   },
   "outputs": [
    {
     "name": "stderr",
     "output_type": "stream",
     "text": [
      "/opt/conda/lib/python3.10/site-packages/seaborn/_oldcore.py:1119: FutureWarning: use_inf_as_na option is deprecated and will be removed in a future version. Convert inf values to NaN before operating instead.\n",
      "  with pd.option_context('mode.use_inf_as_na', True):\n"
     ]
    },
    {
     "data": {
      "text/plain": [
       "<seaborn.axisgrid.FacetGrid at 0x79f2c1692c50>"
      ]
     },
     "execution_count": 20,
     "metadata": {},
     "output_type": "execute_result"
    },
    {
     "data": {
      "text/plain": [
       "<Figure size 1000x600 with 0 Axes>"
      ]
     },
     "metadata": {},
     "output_type": "display_data"
    },
    {
     "data": {
      "image/png": "[encoded data removed]",
      "text/plain": [
       "<Figure size 500x500 with 1 Axes>"
      ]
     },
     "metadata": {},
     "output_type": "display_data"
    }
   ],
   "source": [
    "plt.figure(figsize = (10, 6))\n",
    "sns.displot(train[\"Fare\"], color = \"darkred\")"
   ]
  },
  {
   "cell_type": "markdown",
   "id": "abccadbd",
   "metadata": {
    "papermill": {
     "duration": 0.024122,
     "end_time": "2024-04-20T20:30:50.142315",
     "exception": false,
     "start_time": "2024-04-20T20:30:50.118193",
     "status": "completed"
    },
    "tags": []
   },
   "source": [
    "* Passenger tickets vary from 0 to 50 and there was a decrease after that.\n",
    "\n",
    "* The data has a tail to the right.\n",
    "\n",
    "* It is skewed to the left."
   ]
  },
  {
   "cell_type": "markdown",
   "id": "a00049a4",
   "metadata": {
    "papermill": {
     "duration": 0.024251,
     "end_time": "2024-04-20T20:30:50.190780",
     "exception": false,
     "start_time": "2024-04-20T20:30:50.166529",
     "status": "completed"
    },
    "tags": []
   },
   "source": [
    "#### Correlation Between All the Variables."
   ]
  },
  {
   "cell_type": "code",
   "execution_count": 21,
   "id": "d696a5af",
   "metadata": {
    "execution": {
     "iopub.execute_input": "2024-04-20T20:30:50.243648Z",
     "iopub.status.busy": "2024-04-20T20:30:50.242617Z",
     "iopub.status.idle": "2024-04-20T20:30:50.251222Z",
     "shell.execute_reply": "2024-04-20T20:30:50.250184Z"
    },
    "papermill": {
     "duration": 0.037996,
     "end_time": "2024-04-20T20:30:50.253348",
     "exception": false,
     "start_time": "2024-04-20T20:30:50.215352",
     "status": "completed"
    },
    "tags": []
   },
   "outputs": [
    {
     "data": {
      "text/plain": [
       "Embarked\n",
       "S    554\n",
       "C    130\n",
       "Q     28\n",
       "Name: count, dtype: int64"
      ]
     },
     "execution_count": 21,
     "metadata": {},
     "output_type": "execute_result"
    }
   ],
   "source": [
    "train.Embarked.value_counts()"
   ]
  },
  {
   "cell_type": "code",
   "execution_count": 22,
   "id": "569e4f44",
   "metadata": {
    "execution": {
     "iopub.execute_input": "2024-04-20T20:30:50.308879Z",
     "iopub.status.busy": "2024-04-20T20:30:50.308468Z",
     "iopub.status.idle": "2024-04-20T20:30:50.324434Z",
     "shell.execute_reply": "2024-04-20T20:30:50.323378Z"
    },
    "papermill": {
     "duration": 0.044513,
     "end_time": "2024-04-20T20:30:50.326587",
     "exception": false,
     "start_time": "2024-04-20T20:30:50.282074",
     "status": "completed"
    },
    "tags": []
   },
   "outputs": [
    {
     "data": {
      "text/html": [
       "<div>\n",
       "<style scoped>\n",
       "    .dataframe tbody tr th:only-of-type {\n",
       "        vertical-align: middle;\n",
       "    }\n",
       "\n",
       "    .dataframe tbody tr th {\n",
       "        vertical-align: top;\n",
       "    }\n",
       "\n",
       "    .dataframe thead th {\n",
       "        text-align: right;\n",
       "    }\n",
       "</style>\n",
       "<table border=\"1\" class=\"dataframe\">\n",
       "  <thead>\n",
       "    <tr style=\"text-align: right;\">\n",
       "      <th></th>\n",
       "      <th>PassengerId</th>\n",
       "      <th>Survived</th>\n",
       "      <th>Pclass</th>\n",
       "      <th>Name</th>\n",
       "      <th>Sex</th>\n",
       "      <th>Age</th>\n",
       "      <th>SibSp</th>\n",
       "      <th>Parch</th>\n",
       "      <th>Ticket</th>\n",
       "      <th>Fare</th>\n",
       "      <th>Embarked</th>\n",
       "    </tr>\n",
       "  </thead>\n",
       "  <tbody>\n",
       "    <tr>\n",
       "      <th>0</th>\n",
       "      <td>1</td>\n",
       "      <td>0</td>\n",
       "      <td>3</td>\n",
       "      <td>Braund, Mr. Owen Harris</td>\n",
       "      <td>male</td>\n",
       "      <td>23.0</td>\n",
       "      <td>1</td>\n",
       "      <td>0</td>\n",
       "      <td>A/5 21171</td>\n",
       "      <td>7.2500</td>\n",
       "      <td>S</td>\n",
       "    </tr>\n",
       "    <tr>\n",
       "      <th>1</th>\n",
       "      <td>2</td>\n",
       "      <td>1</td>\n",
       "      <td>1</td>\n",
       "      <td>Cumings, Mrs. John Bradley (Florence Briggs Th...</td>\n",
       "      <td>female</td>\n",
       "      <td>38.0</td>\n",
       "      <td>1</td>\n",
       "      <td>0</td>\n",
       "      <td>PC 17599</td>\n",
       "      <td>71.2833</td>\n",
       "      <td>C</td>\n",
       "    </tr>\n",
       "    <tr>\n",
       "      <th>2</th>\n",
       "      <td>3</td>\n",
       "      <td>1</td>\n",
       "      <td>3</td>\n",
       "      <td>Heikkinen, Miss. Laina</td>\n",
       "      <td>female</td>\n",
       "      <td>26.0</td>\n",
       "      <td>0</td>\n",
       "      <td>0</td>\n",
       "      <td>STON/O2. 3101282</td>\n",
       "      <td>7.9250</td>\n",
       "      <td>S</td>\n",
       "    </tr>\n",
       "    <tr>\n",
       "      <th>3</th>\n",
       "      <td>4</td>\n",
       "      <td>1</td>\n",
       "      <td>1</td>\n",
       "      <td>Futrelle, Mrs. Jacques Heath (Lily May Peel)</td>\n",
       "      <td>female</td>\n",
       "      <td>35.0</td>\n",
       "      <td>1</td>\n",
       "      <td>0</td>\n",
       "      <td>113803</td>\n",
       "      <td>53.1000</td>\n",
       "      <td>S</td>\n",
       "    </tr>\n",
       "    <tr>\n",
       "      <th>4</th>\n",
       "      <td>5</td>\n",
       "      <td>0</td>\n",
       "      <td>3</td>\n",
       "      <td>Allen, Mr. William Henry</td>\n",
       "      <td>male</td>\n",
       "      <td>35.0</td>\n",
       "      <td>0</td>\n",
       "      <td>0</td>\n",
       "      <td>373450</td>\n",
       "      <td>8.0500</td>\n",
       "      <td>S</td>\n",
       "    </tr>\n",
       "  </tbody>\n",
       "</table>\n",
       "</div>"
      ],
      "text/plain": [
       "   PassengerId  Survived  Pclass  \\\n",
       "0            1         0       3   \n",
       "1            2         1       1   \n",
       "2            3         1       3   \n",
       "3            4         1       1   \n",
       "4            5         0       3   \n",
       "\n",
       "                                                Name     Sex   Age  SibSp  \\\n",
       "0                            Braund, Mr. Owen Harris    male  23.0      1   \n",
       "1  Cumings, Mrs. John Bradley (Florence Briggs Th...  female  38.0      1   \n",
       "2                             Heikkinen, Miss. Laina  female  26.0      0   \n",
       "3       Futrelle, Mrs. Jacques Heath (Lily May Peel)  female  35.0      1   \n",
       "4                           Allen, Mr. William Henry    male  35.0      0   \n",
       "\n",
       "   Parch            Ticket     Fare Embarked  \n",
       "0      0         A/5 21171   7.2500        S  \n",
       "1      0          PC 17599  71.2833        C  \n",
       "2      0  STON/O2. 3101282   7.9250        S  \n",
       "3      0            113803  53.1000        S  \n",
       "4      0            373450   8.0500        S  "
      ]
     },
     "execution_count": 22,
     "metadata": {},
     "output_type": "execute_result"
    }
   ],
   "source": [
    "new_train = train.copy()\n",
    "new_train.head()"
   ]
  },
  {
   "cell_type": "code",
   "execution_count": 23,
   "id": "bce09454",
   "metadata": {
    "execution": {
     "iopub.execute_input": "2024-04-20T20:30:50.378768Z",
     "iopub.status.busy": "2024-04-20T20:30:50.378363Z",
     "iopub.status.idle": "2024-04-20T20:30:50.388397Z",
     "shell.execute_reply": "2024-04-20T20:30:50.387106Z"
    },
    "papermill": {
     "duration": 0.038761,
     "end_time": "2024-04-20T20:30:50.391034",
     "exception": false,
     "start_time": "2024-04-20T20:30:50.352273",
     "status": "completed"
    },
    "tags": []
   },
   "outputs": [
    {
     "name": "stderr",
     "output_type": "stream",
     "text": [
      "/tmp/ipykernel_17/3780226896.py:1: FutureWarning: Downcasting behavior in `replace` is deprecated and will be removed in a future version. To retain the old behavior, explicitly call `result.infer_objects(copy=False)`. To opt-in to the future behavior, set `pd.set_option('future.no_silent_downcasting', True)`\n",
      "  new_train['Embarked'] = new_train['Embarked'].replace({'S':0,'C':1,'Q':2})\n",
      "/tmp/ipykernel_17/3780226896.py:2: FutureWarning: Downcasting behavior in `replace` is deprecated and will be removed in a future version. To retain the old behavior, explicitly call `result.infer_objects(copy=False)`. To opt-in to the future behavior, set `pd.set_option('future.no_silent_downcasting', True)`\n",
      "  new_train['Sex'] = new_train['Sex'].replace({'male':0,'female':1})\n"
     ]
    }
   ],
   "source": [
    "new_train['Embarked'] = new_train['Embarked'].replace({'S':0,'C':1,'Q':2})\n",
    "new_train['Sex'] = new_train['Sex'].replace({'male':0,'female':1})"
   ]
  },
  {
   "cell_type": "code",
   "execution_count": 24,
   "id": "bba5f5f2",
   "metadata": {
    "execution": {
     "iopub.execute_input": "2024-04-20T20:30:50.444135Z",
     "iopub.status.busy": "2024-04-20T20:30:50.443747Z",
     "iopub.status.idle": "2024-04-20T20:30:50.459057Z",
     "shell.execute_reply": "2024-04-20T20:30:50.457979Z"
    },
    "papermill": {
     "duration": 0.043939,
     "end_time": "2024-04-20T20:30:50.461210",
     "exception": false,
     "start_time": "2024-04-20T20:30:50.417271",
     "status": "completed"
    },
    "tags": []
   },
   "outputs": [
    {
     "data": {
      "text/html": [
       "<div>\n",
       "<style scoped>\n",
       "    .dataframe tbody tr th:only-of-type {\n",
       "        vertical-align: middle;\n",
       "    }\n",
       "\n",
       "    .dataframe tbody tr th {\n",
       "        vertical-align: top;\n",
       "    }\n",
       "\n",
       "    .dataframe thead th {\n",
       "        text-align: right;\n",
       "    }\n",
       "</style>\n",
       "<table border=\"1\" class=\"dataframe\">\n",
       "  <thead>\n",
       "    <tr style=\"text-align: right;\">\n",
       "      <th></th>\n",
       "      <th>PassengerId</th>\n",
       "      <th>Survived</th>\n",
       "      <th>Pclass</th>\n",
       "      <th>Name</th>\n",
       "      <th>Sex</th>\n",
       "      <th>Age</th>\n",
       "      <th>SibSp</th>\n",
       "      <th>Parch</th>\n",
       "      <th>Ticket</th>\n",
       "      <th>Fare</th>\n",
       "      <th>Embarked</th>\n",
       "    </tr>\n",
       "  </thead>\n",
       "  <tbody>\n",
       "    <tr>\n",
       "      <th>0</th>\n",
       "      <td>1</td>\n",
       "      <td>0</td>\n",
       "      <td>3</td>\n",
       "      <td>Braund, Mr. Owen Harris</td>\n",
       "      <td>0</td>\n",
       "      <td>23.0</td>\n",
       "      <td>1</td>\n",
       "      <td>0</td>\n",
       "      <td>A/5 21171</td>\n",
       "      <td>7.2500</td>\n",
       "      <td>0</td>\n",
       "    </tr>\n",
       "    <tr>\n",
       "      <th>1</th>\n",
       "      <td>2</td>\n",
       "      <td>1</td>\n",
       "      <td>1</td>\n",
       "      <td>Cumings, Mrs. John Bradley (Florence Briggs Th...</td>\n",
       "      <td>1</td>\n",
       "      <td>38.0</td>\n",
       "      <td>1</td>\n",
       "      <td>0</td>\n",
       "      <td>PC 17599</td>\n",
       "      <td>71.2833</td>\n",
       "      <td>1</td>\n",
       "    </tr>\n",
       "    <tr>\n",
       "      <th>2</th>\n",
       "      <td>3</td>\n",
       "      <td>1</td>\n",
       "      <td>3</td>\n",
       "      <td>Heikkinen, Miss. Laina</td>\n",
       "      <td>1</td>\n",
       "      <td>26.0</td>\n",
       "      <td>0</td>\n",
       "      <td>0</td>\n",
       "      <td>STON/O2. 3101282</td>\n",
       "      <td>7.9250</td>\n",
       "      <td>0</td>\n",
       "    </tr>\n",
       "    <tr>\n",
       "      <th>3</th>\n",
       "      <td>4</td>\n",
       "      <td>1</td>\n",
       "      <td>1</td>\n",
       "      <td>Futrelle, Mrs. Jacques Heath (Lily May Peel)</td>\n",
       "      <td>1</td>\n",
       "      <td>35.0</td>\n",
       "      <td>1</td>\n",
       "      <td>0</td>\n",
       "      <td>113803</td>\n",
       "      <td>53.1000</td>\n",
       "      <td>0</td>\n",
       "    </tr>\n",
       "    <tr>\n",
       "      <th>4</th>\n",
       "      <td>5</td>\n",
       "      <td>0</td>\n",
       "      <td>3</td>\n",
       "      <td>Allen, Mr. William Henry</td>\n",
       "      <td>0</td>\n",
       "      <td>35.0</td>\n",
       "      <td>0</td>\n",
       "      <td>0</td>\n",
       "      <td>373450</td>\n",
       "      <td>8.0500</td>\n",
       "      <td>0</td>\n",
       "    </tr>\n",
       "  </tbody>\n",
       "</table>\n",
       "</div>"
      ],
      "text/plain": [
       "   PassengerId  Survived  Pclass  \\\n",
       "0            1         0       3   \n",
       "1            2         1       1   \n",
       "2            3         1       3   \n",
       "3            4         1       1   \n",
       "4            5         0       3   \n",
       "\n",
       "                                                Name  Sex   Age  SibSp  Parch  \\\n",
       "0                            Braund, Mr. Owen Harris    0  23.0      1      0   \n",
       "1  Cumings, Mrs. John Bradley (Florence Briggs Th...    1  38.0      1      0   \n",
       "2                             Heikkinen, Miss. Laina    1  26.0      0      0   \n",
       "3       Futrelle, Mrs. Jacques Heath (Lily May Peel)    1  35.0      1      0   \n",
       "4                           Allen, Mr. William Henry    0  35.0      0      0   \n",
       "\n",
       "             Ticket     Fare  Embarked  \n",
       "0         A/5 21171   7.2500         0  \n",
       "1          PC 17599  71.2833         1  \n",
       "2  STON/O2. 3101282   7.9250         0  \n",
       "3            113803  53.1000         0  \n",
       "4            373450   8.0500         0  "
      ]
     },
     "execution_count": 24,
     "metadata": {},
     "output_type": "execute_result"
    }
   ],
   "source": [
    "new_train.head()"
   ]
  },
  {
   "cell_type": "code",
   "execution_count": 25,
   "id": "932954c3",
   "metadata": {
    "execution": {
     "iopub.execute_input": "2024-04-20T20:30:50.513539Z",
     "iopub.status.busy": "2024-04-20T20:30:50.513154Z",
     "iopub.status.idle": "2024-04-20T20:30:50.519451Z",
     "shell.execute_reply": "2024-04-20T20:30:50.518382Z"
    },
    "papermill": {
     "duration": 0.035547,
     "end_time": "2024-04-20T20:30:50.521939",
     "exception": false,
     "start_time": "2024-04-20T20:30:50.486392",
     "status": "completed"
    },
    "tags": []
   },
   "outputs": [],
   "source": [
    "new_train.drop([\"Name\",\"Ticket\"], axis = 1, inplace = True)"
   ]
  },
  {
   "cell_type": "code",
   "execution_count": 26,
   "id": "0edc96cd",
   "metadata": {
    "execution": {
     "iopub.execute_input": "2024-04-20T20:30:50.575907Z",
     "iopub.status.busy": "2024-04-20T20:30:50.575521Z",
     "iopub.status.idle": "2024-04-20T20:30:50.589272Z",
     "shell.execute_reply": "2024-04-20T20:30:50.588103Z"
    },
    "papermill": {
     "duration": 0.043117,
     "end_time": "2024-04-20T20:30:50.591511",
     "exception": false,
     "start_time": "2024-04-20T20:30:50.548394",
     "status": "completed"
    },
    "tags": []
   },
   "outputs": [
    {
     "data": {
      "text/html": [
       "<div>\n",
       "<style scoped>\n",
       "    .dataframe tbody tr th:only-of-type {\n",
       "        vertical-align: middle;\n",
       "    }\n",
       "\n",
       "    .dataframe tbody tr th {\n",
       "        vertical-align: top;\n",
       "    }\n",
       "\n",
       "    .dataframe thead th {\n",
       "        text-align: right;\n",
       "    }\n",
       "</style>\n",
       "<table border=\"1\" class=\"dataframe\">\n",
       "  <thead>\n",
       "    <tr style=\"text-align: right;\">\n",
       "      <th></th>\n",
       "      <th>PassengerId</th>\n",
       "      <th>Survived</th>\n",
       "      <th>Pclass</th>\n",
       "      <th>Sex</th>\n",
       "      <th>Age</th>\n",
       "      <th>SibSp</th>\n",
       "      <th>Parch</th>\n",
       "      <th>Fare</th>\n",
       "      <th>Embarked</th>\n",
       "    </tr>\n",
       "  </thead>\n",
       "  <tbody>\n",
       "    <tr>\n",
       "      <th>0</th>\n",
       "      <td>1</td>\n",
       "      <td>0</td>\n",
       "      <td>3</td>\n",
       "      <td>0</td>\n",
       "      <td>23.0</td>\n",
       "      <td>1</td>\n",
       "      <td>0</td>\n",
       "      <td>7.2500</td>\n",
       "      <td>0</td>\n",
       "    </tr>\n",
       "    <tr>\n",
       "      <th>1</th>\n",
       "      <td>2</td>\n",
       "      <td>1</td>\n",
       "      <td>1</td>\n",
       "      <td>1</td>\n",
       "      <td>38.0</td>\n",
       "      <td>1</td>\n",
       "      <td>0</td>\n",
       "      <td>71.2833</td>\n",
       "      <td>1</td>\n",
       "    </tr>\n",
       "    <tr>\n",
       "      <th>2</th>\n",
       "      <td>3</td>\n",
       "      <td>1</td>\n",
       "      <td>3</td>\n",
       "      <td>1</td>\n",
       "      <td>26.0</td>\n",
       "      <td>0</td>\n",
       "      <td>0</td>\n",
       "      <td>7.9250</td>\n",
       "      <td>0</td>\n",
       "    </tr>\n",
       "    <tr>\n",
       "      <th>3</th>\n",
       "      <td>4</td>\n",
       "      <td>1</td>\n",
       "      <td>1</td>\n",
       "      <td>1</td>\n",
       "      <td>35.0</td>\n",
       "      <td>1</td>\n",
       "      <td>0</td>\n",
       "      <td>53.1000</td>\n",
       "      <td>0</td>\n",
       "    </tr>\n",
       "    <tr>\n",
       "      <th>4</th>\n",
       "      <td>5</td>\n",
       "      <td>0</td>\n",
       "      <td>3</td>\n",
       "      <td>0</td>\n",
       "      <td>35.0</td>\n",
       "      <td>0</td>\n",
       "      <td>0</td>\n",
       "      <td>8.0500</td>\n",
       "      <td>0</td>\n",
       "    </tr>\n",
       "  </tbody>\n",
       "</table>\n",
       "</div>"
      ],
      "text/plain": [
       "   PassengerId  Survived  Pclass  Sex   Age  SibSp  Parch     Fare  Embarked\n",
       "0            1         0       3    0  23.0      1      0   7.2500         0\n",
       "1            2         1       1    1  38.0      1      0  71.2833         1\n",
       "2            3         1       3    1  26.0      0      0   7.9250         0\n",
       "3            4         1       1    1  35.0      1      0  53.1000         0\n",
       "4            5         0       3    0  35.0      0      0   8.0500         0"
      ]
     },
     "execution_count": 26,
     "metadata": {},
     "output_type": "execute_result"
    }
   ],
   "source": [
    "new_train.head()"
   ]
  },
  {
   "cell_type": "code",
   "execution_count": 27,
   "id": "1db371cd",
   "metadata": {
    "execution": {
     "iopub.execute_input": "2024-04-20T20:30:50.644533Z",
     "iopub.status.busy": "2024-04-20T20:30:50.644126Z",
     "iopub.status.idle": "2024-04-20T20:30:50.650822Z",
     "shell.execute_reply": "2024-04-20T20:30:50.649874Z"
    },
    "papermill": {
     "duration": 0.035852,
     "end_time": "2024-04-20T20:30:50.653003",
     "exception": false,
     "start_time": "2024-04-20T20:30:50.617151",
     "status": "completed"
    },
    "tags": []
   },
   "outputs": [],
   "source": [
    "last_column = new_train.pop('Survived')\n",
    "length = len(new_train.columns)\n",
    "new_train.insert((length), 'Survived', last_column)"
   ]
  },
  {
   "cell_type": "code",
   "execution_count": 28,
   "id": "f56cad91",
   "metadata": {
    "execution": {
     "iopub.execute_input": "2024-04-20T20:30:50.706846Z",
     "iopub.status.busy": "2024-04-20T20:30:50.706467Z",
     "iopub.status.idle": "2024-04-20T20:30:50.720142Z",
     "shell.execute_reply": "2024-04-20T20:30:50.719094Z"
    },
    "papermill": {
     "duration": 0.043257,
     "end_time": "2024-04-20T20:30:50.722405",
     "exception": false,
     "start_time": "2024-04-20T20:30:50.679148",
     "status": "completed"
    },
    "tags": []
   },
   "outputs": [
    {
     "data": {
      "text/html": [
       "<div>\n",
       "<style scoped>\n",
       "    .dataframe tbody tr th:only-of-type {\n",
       "        vertical-align: middle;\n",
       "    }\n",
       "\n",
       "    .dataframe tbody tr th {\n",
       "        vertical-align: top;\n",
       "    }\n",
       "\n",
       "    .dataframe thead th {\n",
       "        text-align: right;\n",
       "    }\n",
       "</style>\n",
       "<table border=\"1\" class=\"dataframe\">\n",
       "  <thead>\n",
       "    <tr style=\"text-align: right;\">\n",
       "      <th></th>\n",
       "      <th>PassengerId</th>\n",
       "      <th>Pclass</th>\n",
       "      <th>Sex</th>\n",
       "      <th>Age</th>\n",
       "      <th>SibSp</th>\n",
       "      <th>Parch</th>\n",
       "      <th>Fare</th>\n",
       "      <th>Embarked</th>\n",
       "      <th>Survived</th>\n",
       "    </tr>\n",
       "  </thead>\n",
       "  <tbody>\n",
       "    <tr>\n",
       "      <th>0</th>\n",
       "      <td>1</td>\n",
       "      <td>3</td>\n",
       "      <td>0</td>\n",
       "      <td>23.0</td>\n",
       "      <td>1</td>\n",
       "      <td>0</td>\n",
       "      <td>7.2500</td>\n",
       "      <td>0</td>\n",
       "      <td>0</td>\n",
       "    </tr>\n",
       "    <tr>\n",
       "      <th>1</th>\n",
       "      <td>2</td>\n",
       "      <td>1</td>\n",
       "      <td>1</td>\n",
       "      <td>38.0</td>\n",
       "      <td>1</td>\n",
       "      <td>0</td>\n",
       "      <td>71.2833</td>\n",
       "      <td>1</td>\n",
       "      <td>1</td>\n",
       "    </tr>\n",
       "    <tr>\n",
       "      <th>2</th>\n",
       "      <td>3</td>\n",
       "      <td>3</td>\n",
       "      <td>1</td>\n",
       "      <td>26.0</td>\n",
       "      <td>0</td>\n",
       "      <td>0</td>\n",
       "      <td>7.9250</td>\n",
       "      <td>0</td>\n",
       "      <td>1</td>\n",
       "    </tr>\n",
       "    <tr>\n",
       "      <th>3</th>\n",
       "      <td>4</td>\n",
       "      <td>1</td>\n",
       "      <td>1</td>\n",
       "      <td>35.0</td>\n",
       "      <td>1</td>\n",
       "      <td>0</td>\n",
       "      <td>53.1000</td>\n",
       "      <td>0</td>\n",
       "      <td>1</td>\n",
       "    </tr>\n",
       "    <tr>\n",
       "      <th>4</th>\n",
       "      <td>5</td>\n",
       "      <td>3</td>\n",
       "      <td>0</td>\n",
       "      <td>35.0</td>\n",
       "      <td>0</td>\n",
       "      <td>0</td>\n",
       "      <td>8.0500</td>\n",
       "      <td>0</td>\n",
       "      <td>0</td>\n",
       "    </tr>\n",
       "  </tbody>\n",
       "</table>\n",
       "</div>"
      ],
      "text/plain": [
       "   PassengerId  Pclass  Sex   Age  SibSp  Parch     Fare  Embarked  Survived\n",
       "0            1       3    0  23.0      1      0   7.2500         0         0\n",
       "1            2       1    1  38.0      1      0  71.2833         1         1\n",
       "2            3       3    1  26.0      0      0   7.9250         0         1\n",
       "3            4       1    1  35.0      1      0  53.1000         0         1\n",
       "4            5       3    0  35.0      0      0   8.0500         0         0"
      ]
     },
     "execution_count": 28,
     "metadata": {},
     "output_type": "execute_result"
    }
   ],
   "source": [
    "new_train.head()"
   ]
  },
  {
   "cell_type": "code",
   "execution_count": 29,
   "id": "b1fcb65b",
   "metadata": {
    "execution": {
     "iopub.execute_input": "2024-04-20T20:30:50.775930Z",
     "iopub.status.busy": "2024-04-20T20:30:50.775539Z",
     "iopub.status.idle": "2024-04-20T20:30:51.482552Z",
     "shell.execute_reply": "2024-04-20T20:30:51.481318Z"
    },
    "papermill": {
     "duration": 0.736139,
     "end_time": "2024-04-20T20:30:51.484950",
     "exception": false,
     "start_time": "2024-04-20T20:30:50.748811",
     "status": "completed"
    },
    "tags": []
   },
   "outputs": [
    {
     "data": {
      "text/plain": [
       "<Axes: >"
      ]
     },
     "execution_count": 29,
     "metadata": {},
     "output_type": "execute_result"
    },
    {
     "data": {
      "image/png": "[encoded data removed]",
      "text/plain": [
       "<Figure size 1000x600 with 2 Axes>"
      ]
     },
     "metadata": {},
     "output_type": "display_data"
    }
   ],
   "source": [
    "\n",
    "plt.figure(figsize = (10, 6))\n",
    "sns.heatmap(new_train.corr(), annot = True)"
   ]
  },
  {
   "cell_type": "code",
   "execution_count": 30,
   "id": "477631ed",
   "metadata": {
    "execution": {
     "iopub.execute_input": "2024-04-20T20:30:51.541190Z",
     "iopub.status.busy": "2024-04-20T20:30:51.540795Z",
     "iopub.status.idle": "2024-04-20T20:30:51.547025Z",
     "shell.execute_reply": "2024-04-20T20:30:51.545942Z"
    },
    "papermill": {
     "duration": 0.037281,
     "end_time": "2024-04-20T20:30:51.549271",
     "exception": false,
     "start_time": "2024-04-20T20:30:51.511990",
     "status": "completed"
    },
    "tags": []
   },
   "outputs": [],
   "source": [
    "new_train.drop([\"PassengerId\",\"Age\",\"SibSp\",\"Parch\"], axis = 1, inplace = True)"
   ]
  },
  {
   "cell_type": "code",
   "execution_count": 31,
   "id": "aca8743e",
   "metadata": {
    "execution": {
     "iopub.execute_input": "2024-04-20T20:30:51.605523Z",
     "iopub.status.busy": "2024-04-20T20:30:51.604762Z",
     "iopub.status.idle": "2024-04-20T20:30:51.616168Z",
     "shell.execute_reply": "2024-04-20T20:30:51.615124Z"
    },
    "papermill": {
     "duration": 0.041903,
     "end_time": "2024-04-20T20:30:51.618316",
     "exception": false,
     "start_time": "2024-04-20T20:30:51.576413",
     "status": "completed"
    },
    "tags": []
   },
   "outputs": [
    {
     "data": {
      "text/html": [
       "<div>\n",
       "<style scoped>\n",
       "    .dataframe tbody tr th:only-of-type {\n",
       "        vertical-align: middle;\n",
       "    }\n",
       "\n",
       "    .dataframe tbody tr th {\n",
       "        vertical-align: top;\n",
       "    }\n",
       "\n",
       "    .dataframe thead th {\n",
       "        text-align: right;\n",
       "    }\n",
       "</style>\n",
       "<table border=\"1\" class=\"dataframe\">\n",
       "  <thead>\n",
       "    <tr style=\"text-align: right;\">\n",
       "      <th></th>\n",
       "      <th>Pclass</th>\n",
       "      <th>Sex</th>\n",
       "      <th>Fare</th>\n",
       "      <th>Embarked</th>\n",
       "      <th>Survived</th>\n",
       "    </tr>\n",
       "  </thead>\n",
       "  <tbody>\n",
       "    <tr>\n",
       "      <th>0</th>\n",
       "      <td>3</td>\n",
       "      <td>0</td>\n",
       "      <td>7.2500</td>\n",
       "      <td>0</td>\n",
       "      <td>0</td>\n",
       "    </tr>\n",
       "    <tr>\n",
       "      <th>1</th>\n",
       "      <td>1</td>\n",
       "      <td>1</td>\n",
       "      <td>71.2833</td>\n",
       "      <td>1</td>\n",
       "      <td>1</td>\n",
       "    </tr>\n",
       "    <tr>\n",
       "      <th>2</th>\n",
       "      <td>3</td>\n",
       "      <td>1</td>\n",
       "      <td>7.9250</td>\n",
       "      <td>0</td>\n",
       "      <td>1</td>\n",
       "    </tr>\n",
       "    <tr>\n",
       "      <th>3</th>\n",
       "      <td>1</td>\n",
       "      <td>1</td>\n",
       "      <td>53.1000</td>\n",
       "      <td>0</td>\n",
       "      <td>1</td>\n",
       "    </tr>\n",
       "    <tr>\n",
       "      <th>4</th>\n",
       "      <td>3</td>\n",
       "      <td>0</td>\n",
       "      <td>8.0500</td>\n",
       "      <td>0</td>\n",
       "      <td>0</td>\n",
       "    </tr>\n",
       "  </tbody>\n",
       "</table>\n",
       "</div>"
      ],
      "text/plain": [
       "   Pclass  Sex     Fare  Embarked  Survived\n",
       "0       3    0   7.2500         0         0\n",
       "1       1    1  71.2833         1         1\n",
       "2       3    1   7.9250         0         1\n",
       "3       1    1  53.1000         0         1\n",
       "4       3    0   8.0500         0         0"
      ]
     },
     "execution_count": 31,
     "metadata": {},
     "output_type": "execute_result"
    }
   ],
   "source": [
    "new_train.head()"
   ]
  },
  {
   "cell_type": "markdown",
   "id": "1f9e25ff",
   "metadata": {
    "papermill": {
     "duration": 0.026463,
     "end_time": "2024-04-20T20:30:51.671433",
     "exception": false,
     "start_time": "2024-04-20T20:30:51.644970",
     "status": "completed"
    },
    "tags": []
   },
   "source": [
    "#### MODELLING  "
   ]
  },
  {
   "cell_type": "markdown",
   "id": "bc5cdc9b",
   "metadata": {
    "papermill": {
     "duration": 0.026513,
     "end_time": "2024-04-20T20:30:51.724582",
     "exception": false,
     "start_time": "2024-04-20T20:30:51.698069",
     "status": "completed"
    },
    "tags": []
   },
   "source": [
    "#### 1. Logistic Regression Algorithm"
   ]
  },
  {
   "cell_type": "code",
   "execution_count": 32,
   "id": "e549518a",
   "metadata": {
    "execution": {
     "iopub.execute_input": "2024-04-20T20:30:51.780192Z",
     "iopub.status.busy": "2024-04-20T20:30:51.779834Z",
     "iopub.status.idle": "2024-04-20T20:30:52.043002Z",
     "shell.execute_reply": "2024-04-20T20:30:52.041976Z"
    },
    "papermill": {
     "duration": 0.293673,
     "end_time": "2024-04-20T20:30:52.045445",
     "exception": false,
     "start_time": "2024-04-20T20:30:51.751772",
     "status": "completed"
    },
    "tags": []
   },
   "outputs": [],
   "source": [
    "from sklearn.model_selection import train_test_split\n",
    "\n",
    "X = new_train.drop(\"Survived\", axis = 1)\n",
    "y = new_train[\"Survived\"]"
   ]
  },
  {
   "cell_type": "code",
   "execution_count": 33,
   "id": "9f686c17",
   "metadata": {
    "execution": {
     "iopub.execute_input": "2024-04-20T20:30:52.102123Z",
     "iopub.status.busy": "2024-04-20T20:30:52.101691Z",
     "iopub.status.idle": "2024-04-20T20:30:52.111213Z",
     "shell.execute_reply": "2024-04-20T20:30:52.110314Z"
    },
    "papermill": {
     "duration": 0.040759,
     "end_time": "2024-04-20T20:30:52.113375",
     "exception": false,
     "start_time": "2024-04-20T20:30:52.072616",
     "status": "completed"
    },
    "tags": []
   },
   "outputs": [],
   "source": [
    "X_train, X_test, y_train, y_test = train_test_split(X,y, test_size = 0.25, random_state = 42)"
   ]
  },
  {
   "cell_type": "code",
   "execution_count": 34,
   "id": "4969ace7",
   "metadata": {
    "execution": {
     "iopub.execute_input": "2024-04-20T20:30:52.169357Z",
     "iopub.status.busy": "2024-04-20T20:30:52.168510Z",
     "iopub.status.idle": "2024-04-20T20:30:52.285264Z",
     "shell.execute_reply": "2024-04-20T20:30:52.284271Z"
    },
    "papermill": {
     "duration": 0.146953,
     "end_time": "2024-04-20T20:30:52.287370",
     "exception": false,
     "start_time": "2024-04-20T20:30:52.140417",
     "status": "completed"
    },
    "tags": []
   },
   "outputs": [
    {
     "data": {
      "text/html": [
       "<style>#sk-container-id-1 {color: black;background-color: white;}#sk-container-id-1 pre{padding: 0;}#sk-container-id-1 div.sk-toggleable {background-color: white;}#sk-container-id-1 label.sk-toggleable__label {cursor: pointer;display: block;width: 100%;margin-bottom: 0;padding: 0.3em;box-sizing: border-box;text-align: center;}#sk-container-id-1 label.sk-toggleable__label-arrow:before {content: \"▸\";float: left;margin-right: 0.25em;color: #696969;}#sk-container-id-1 label.sk-toggleable__label-arrow:hover:before {color: black;}#sk-container-id-1 div.sk-estimator:hover label.sk-toggleable__label-arrow:before {color: black;}#sk-container-id-1 div.sk-toggleable__content {max-height: 0;max-width: 0;overflow: hidden;text-align: left;background-color: #f0f8ff;}#sk-container-id-1 div.sk-toggleable__content pre {margin: 0.2em;color: black;border-radius: 0.25em;background-color: #f0f8ff;}#sk-container-id-1 input.sk-toggleable__control:checked~div.sk-toggleable__content {max-height: 200px;max-width: 100%;overflow: auto;}#sk-container-id-1 input.sk-toggleable__control:checked~label.sk-toggleable__label-arrow:before {content: \"▾\";}#sk-container-id-1 div.sk-estimator input.sk-toggleable__control:checked~label.sk-toggleable__label {background-color: #d4ebff;}#sk-container-id-1 div.sk-label input.sk-toggleable__control:checked~label.sk-toggleable__label {background-color: #d4ebff;}#sk-container-id-1 input.sk-hidden--visually {border: 0;clip: rect(1px 1px 1px 1px);clip: rect(1px, 1px, 1px, 1px);height: 1px;margin: -1px;overflow: hidden;padding: 0;position: absolute;width: 1px;}#sk-container-id-1 div.sk-estimator {font-family: monospace;background-color: #f0f8ff;border: 1px dotted black;border-radius: 0.25em;box-sizing: border-box;margin-bottom: 0.5em;}#sk-container-id-1 div.sk-estimator:hover {background-color: #d4ebff;}#sk-container-id-1 div.sk-parallel-item::after {content: \"\";width: 100%;border-bottom: 1px solid gray;flex-grow: 1;}#sk-container-id-1 div.sk-label:hover label.sk-toggleable__label {background-color: #d4ebff;}#sk-container-id-1 div.sk-serial::before {content: \"\";position: absolute;border-left: 1px solid gray;box-sizing: border-box;top: 0;bottom: 0;left: 50%;z-index: 0;}#sk-container-id-1 div.sk-serial {display: flex;flex-direction: column;align-items: center;background-color: white;padding-right: 0.2em;padding-left: 0.2em;position: relative;}#sk-container-id-1 div.sk-item {position: relative;z-index: 1;}#sk-container-id-1 div.sk-parallel {display: flex;align-items: stretch;justify-content: center;background-color: white;position: relative;}#sk-container-id-1 div.sk-item::before, #sk-container-id-1 div.sk-parallel-item::before {content: \"\";position: absolute;border-left: 1px solid gray;box-sizing: border-box;top: 0;bottom: 0;left: 50%;z-index: -1;}#sk-container-id-1 div.sk-parallel-item {display: flex;flex-direction: column;z-index: 1;position: relative;background-color: white;}#sk-container-id-1 div.sk-parallel-item:first-child::after {align-self: flex-end;width: 50%;}#sk-container-id-1 div.sk-parallel-item:last-child::after {align-self: flex-start;width: 50%;}#sk-container-id-1 div.sk-parallel-item:only-child::after {width: 0;}#sk-container-id-1 div.sk-dashed-wrapped {border: 1px dashed gray;margin: 0 0.4em 0.5em 0.4em;box-sizing: border-box;padding-bottom: 0.4em;background-color: white;}#sk-container-id-1 div.sk-label label {font-family: monospace;font-weight: bold;display: inline-block;line-height: 1.2em;}#sk-container-id-1 div.sk-label-container {text-align: center;}#sk-container-id-1 div.sk-container {/* jupyter's `normalize.less` sets `[hidden] { display: none; }` but bootstrap.min.css set `[hidden] { display: none !important; }` so we also need the `!important` here to be able to override the default hidden behavior on the sphinx rendered scikit-learn.org. See: https://github.com/scikit-learn/scikit-learn/issues/21755 */display: inline-block !important;position: relative;}#sk-container-id-1 div.sk-text-repr-fallback {display: none;}</style><div id=\"sk-container-id-1\" class=\"sk-top-container\"><div class=\"sk-text-repr-fallback\"><pre>LogisticRegression()</pre><b>In a Jupyter environment, please rerun this cell to show the HTML representation or trust the notebook. <br />On GitHub, the HTML representation is unable to render, please try loading this page with nbviewer.org.</b></div><div class=\"sk-container\" hidden><div class=\"sk-item\"><div class=\"sk-estimator sk-toggleable\"><input class=\"sk-toggleable__control sk-hidden--visually\" id=\"sk-estimator-id-1\" type=\"checkbox\" checked><label for=\"sk-estimator-id-1\" class=\"sk-toggleable__label sk-toggleable__label-arrow\">LogisticRegression</label><div class=\"sk-toggleable__content\"><pre>LogisticRegression()</pre></div></div></div></div></div>"
      ],
      "text/plain": [
       "LogisticRegression()"
      ]
     },
     "execution_count": 34,
     "metadata": {},
     "output_type": "execute_result"
    }
   ],
   "source": [
    "from sklearn.linear_model import LogisticRegression\n",
    "\n",
    "#Training the model\n",
    "lr_model = LogisticRegression()\n",
    "\n",
    "lr_model.fit(X_train, y_train)"
   ]
  },
  {
   "cell_type": "code",
   "execution_count": 35,
   "id": "ec13de11",
   "metadata": {
    "execution": {
     "iopub.execute_input": "2024-04-20T20:30:52.345257Z",
     "iopub.status.busy": "2024-04-20T20:30:52.344782Z",
     "iopub.status.idle": "2024-04-20T20:30:52.354003Z",
     "shell.execute_reply": "2024-04-20T20:30:52.352960Z"
    },
    "papermill": {
     "duration": 0.040638,
     "end_time": "2024-04-20T20:30:52.356271",
     "exception": false,
     "start_time": "2024-04-20T20:30:52.315633",
     "status": "completed"
    },
    "tags": []
   },
   "outputs": [
    {
     "data": {
      "text/plain": [
       "array([1, 1, 0, 1, 0, 0, 1, 1, 0, 1, 0, 0, 0, 0, 1, 0, 1, 0, 1, 1, 0, 1,\n",
       "       1, 0, 0, 1, 0, 1, 0, 0, 1, 0, 0, 0, 1, 0, 0, 1, 1, 0, 0, 0, 0, 0,\n",
       "       0, 0, 0, 1, 0, 0, 0, 0, 1, 0, 0, 1, 0, 0, 0, 0, 0, 0, 0, 1, 0, 0,\n",
       "       0, 0, 1, 0, 1, 0, 0, 0, 0, 0, 0, 1, 0, 1, 0, 1, 1, 0, 0, 0, 0, 1,\n",
       "       0, 1, 0, 0, 0, 1, 0, 1, 1, 0, 1, 1, 1, 0, 1, 0, 1, 0, 0, 0, 0, 0,\n",
       "       0, 1, 0, 0, 0, 0, 0, 0, 1, 1, 0, 1, 1, 1, 1, 1, 0, 1, 0, 1, 1, 0,\n",
       "       0, 0, 0, 0, 0, 0, 1, 1, 0, 1, 0, 1, 1, 0, 0, 1, 1, 0, 0, 1, 0, 1,\n",
       "       0, 0, 1, 0, 0, 1, 0, 1, 0, 0, 1, 1, 0, 0, 1, 1, 1, 0, 0, 1, 1, 1,\n",
       "       0, 0])"
      ]
     },
     "execution_count": 35,
     "metadata": {},
     "output_type": "execute_result"
    }
   ],
   "source": [
    "#Predicting\n",
    "y_pred = lr_model.predict(X_test)\n",
    "y_pred"
   ]
  },
  {
   "cell_type": "code",
   "execution_count": 36,
   "id": "2167ae42",
   "metadata": {
    "execution": {
     "iopub.execute_input": "2024-04-20T20:30:52.414947Z",
     "iopub.status.busy": "2024-04-20T20:30:52.414518Z",
     "iopub.status.idle": "2024-04-20T20:30:52.423000Z",
     "shell.execute_reply": "2024-04-20T20:30:52.421588Z"
    },
    "papermill": {
     "duration": 0.040931,
     "end_time": "2024-04-20T20:30:52.425592",
     "exception": false,
     "start_time": "2024-04-20T20:30:52.384661",
     "status": "completed"
    },
    "tags": []
   },
   "outputs": [
    {
     "name": "stdout",
     "output_type": "stream",
     "text": [
      "Test Accuracy: 0.7415730337078652\n"
     ]
    }
   ],
   "source": [
    "from sklearn.metrics import accuracy_score\n",
    "accuracy = accuracy_score(y_test, y_pred)\n",
    "print(\"Test Accuracy: {}\".format(accuracy))"
   ]
  },
  {
   "cell_type": "markdown",
   "id": "ace97a7d",
   "metadata": {
    "papermill": {
     "duration": 0.027703,
     "end_time": "2024-04-20T20:30:52.481394",
     "exception": false,
     "start_time": "2024-04-20T20:30:52.453691",
     "status": "completed"
    },
    "tags": []
   },
   "source": [
    "##### Classification report "
   ]
  },
  {
   "cell_type": "code",
   "execution_count": 37,
   "id": "b469d978",
   "metadata": {
    "execution": {
     "iopub.execute_input": "2024-04-20T20:30:52.539389Z",
     "iopub.status.busy": "2024-04-20T20:30:52.538353Z",
     "iopub.status.idle": "2024-04-20T20:30:52.543241Z",
     "shell.execute_reply": "2024-04-20T20:30:52.542372Z"
    },
    "papermill": {
     "duration": 0.036076,
     "end_time": "2024-04-20T20:30:52.545367",
     "exception": false,
     "start_time": "2024-04-20T20:30:52.509291",
     "status": "completed"
    },
    "tags": []
   },
   "outputs": [],
   "source": [
    "#Test the accuracy using Classification Report\n",
    "from sklearn.metrics import classification_report\n",
    "from sklearn.metrics import confusion_matrix"
   ]
  },
  {
   "cell_type": "code",
   "execution_count": 38,
   "id": "b0ce2972",
   "metadata": {
    "execution": {
     "iopub.execute_input": "2024-04-20T20:30:52.602643Z",
     "iopub.status.busy": "2024-04-20T20:30:52.602236Z",
     "iopub.status.idle": "2024-04-20T20:30:52.616970Z",
     "shell.execute_reply": "2024-04-20T20:30:52.615724Z"
    },
    "papermill": {
     "duration": 0.045898,
     "end_time": "2024-04-20T20:30:52.619252",
     "exception": false,
     "start_time": "2024-04-20T20:30:52.573354",
     "status": "completed"
    },
    "tags": []
   },
   "outputs": [
    {
     "name": "stdout",
     "output_type": "stream",
     "text": [
      "              precision    recall  f1-score   support\n",
      "\n",
      "           0       0.74      0.82      0.78        99\n",
      "           1       0.74      0.65      0.69        79\n",
      "\n",
      "    accuracy                           0.74       178\n",
      "   macro avg       0.74      0.73      0.73       178\n",
      "weighted avg       0.74      0.74      0.74       178\n",
      "\n"
     ]
    }
   ],
   "source": [
    "print(classification_report(y_test, y_pred))"
   ]
  },
  {
   "cell_type": "code",
   "execution_count": 39,
   "id": "3f108559",
   "metadata": {
    "execution": {
     "iopub.execute_input": "2024-04-20T20:30:52.677377Z",
     "iopub.status.busy": "2024-04-20T20:30:52.676957Z",
     "iopub.status.idle": "2024-04-20T20:30:52.685926Z",
     "shell.execute_reply": "2024-04-20T20:30:52.684930Z"
    },
    "papermill": {
     "duration": 0.040182,
     "end_time": "2024-04-20T20:30:52.687987",
     "exception": false,
     "start_time": "2024-04-20T20:30:52.647805",
     "status": "completed"
    },
    "tags": []
   },
   "outputs": [
    {
     "data": {
      "text/plain": [
       "array([[81, 18],\n",
       "       [28, 51]])"
      ]
     },
     "execution_count": 39,
     "metadata": {},
     "output_type": "execute_result"
    }
   ],
   "source": [
    "#Confusion Matrix\n",
    "cnf_matrix = confusion_matrix(y_test, y_pred)\n",
    "cnf_matrix"
   ]
  },
  {
   "cell_type": "markdown",
   "id": "9b205e7d",
   "metadata": {
    "papermill": {
     "duration": 0.028291,
     "end_time": "2024-04-20T20:30:52.744515",
     "exception": false,
     "start_time": "2024-04-20T20:30:52.716224",
     "status": "completed"
    },
    "tags": []
   },
   "source": [
    "**Cross Validation.**"
   ]
  },
  {
   "cell_type": "code",
   "execution_count": 40,
   "id": "6461dc25",
   "metadata": {
    "execution": {
     "iopub.execute_input": "2024-04-20T20:30:52.803003Z",
     "iopub.status.busy": "2024-04-20T20:30:52.802638Z",
     "iopub.status.idle": "2024-04-20T20:30:52.807663Z",
     "shell.execute_reply": "2024-04-20T20:30:52.806478Z"
    },
    "papermill": {
     "duration": 0.036587,
     "end_time": "2024-04-20T20:30:52.809842",
     "exception": false,
     "start_time": "2024-04-20T20:30:52.773255",
     "status": "completed"
    },
    "tags": []
   },
   "outputs": [],
   "source": [
    "from sklearn.model_selection import cross_val_score"
   ]
  },
  {
   "cell_type": "code",
   "execution_count": 41,
   "id": "beefa6f2",
   "metadata": {
    "execution": {
     "iopub.execute_input": "2024-04-20T20:30:52.868420Z",
     "iopub.status.busy": "2024-04-20T20:30:52.867994Z",
     "iopub.status.idle": "2024-04-20T20:30:52.993819Z",
     "shell.execute_reply": "2024-04-20T20:30:52.992609Z"
    },
    "papermill": {
     "duration": 0.157722,
     "end_time": "2024-04-20T20:30:52.996161",
     "exception": false,
     "start_time": "2024-04-20T20:30:52.838439",
     "status": "completed"
    },
    "tags": []
   },
   "outputs": [
    {
     "name": "stdout",
     "output_type": "stream",
     "text": [
      "Cross-Validation Accuracy Scores 0.7526143790849673\n"
     ]
    }
   ],
   "source": [
    "scores = cross_val_score(lr_model, X_test, y_test, cv = 10)\n",
    "print(\"Cross-Validation Accuracy Scores\", scores.mean())"
   ]
  },
  {
   "cell_type": "markdown",
   "id": "09e35ec0",
   "metadata": {
    "papermill": {
     "duration": 0.027843,
     "end_time": "2024-04-20T20:30:53.052565",
     "exception": false,
     "start_time": "2024-04-20T20:30:53.024722",
     "status": "completed"
    },
    "tags": []
   },
   "source": [
    "**Hyperparameter Optimization(with GridSearchCV)**"
   ]
  },
  {
   "cell_type": "code",
   "execution_count": 42,
   "id": "cc8475b8",
   "metadata": {
    "execution": {
     "iopub.execute_input": "2024-04-20T20:30:53.111220Z",
     "iopub.status.busy": "2024-04-20T20:30:53.110220Z",
     "iopub.status.idle": "2024-04-20T20:30:53.118465Z",
     "shell.execute_reply": "2024-04-20T20:30:53.117278Z"
    },
    "papermill": {
     "duration": 0.040208,
     "end_time": "2024-04-20T20:30:53.120644",
     "exception": false,
     "start_time": "2024-04-20T20:30:53.080436",
     "status": "completed"
    },
    "tags": []
   },
   "outputs": [
    {
     "data": {
      "text/html": [
       "<style>#sk-container-id-2 {color: black;background-color: white;}#sk-container-id-2 pre{padding: 0;}#sk-container-id-2 div.sk-toggleable {background-color: white;}#sk-container-id-2 label.sk-toggleable__label {cursor: pointer;display: block;width: 100%;margin-bottom: 0;padding: 0.3em;box-sizing: border-box;text-align: center;}#sk-container-id-2 label.sk-toggleable__label-arrow:before {content: \"▸\";float: left;margin-right: 0.25em;color: #696969;}#sk-container-id-2 label.sk-toggleable__label-arrow:hover:before {color: black;}#sk-container-id-2 div.sk-estimator:hover label.sk-toggleable__label-arrow:before {color: black;}#sk-container-id-2 div.sk-toggleable__content {max-height: 0;max-width: 0;overflow: hidden;text-align: left;background-color: #f0f8ff;}#sk-container-id-2 div.sk-toggleable__content pre {margin: 0.2em;color: black;border-radius: 0.25em;background-color: #f0f8ff;}#sk-container-id-2 input.sk-toggleable__control:checked~div.sk-toggleable__content {max-height: 200px;max-width: 100%;overflow: auto;}#sk-container-id-2 input.sk-toggleable__control:checked~label.sk-toggleable__label-arrow:before {content: \"▾\";}#sk-container-id-2 div.sk-estimator input.sk-toggleable__control:checked~label.sk-toggleable__label {background-color: #d4ebff;}#sk-container-id-2 div.sk-label input.sk-toggleable__control:checked~label.sk-toggleable__label {background-color: #d4ebff;}#sk-container-id-2 input.sk-hidden--visually {border: 0;clip: rect(1px 1px 1px 1px);clip: rect(1px, 1px, 1px, 1px);height: 1px;margin: -1px;overflow: hidden;padding: 0;position: absolute;width: 1px;}#sk-container-id-2 div.sk-estimator {font-family: monospace;background-color: #f0f8ff;border: 1px dotted black;border-radius: 0.25em;box-sizing: border-box;margin-bottom: 0.5em;}#sk-container-id-2 div.sk-estimator:hover {background-color: #d4ebff;}#sk-container-id-2 div.sk-parallel-item::after {content: \"\";width: 100%;border-bottom: 1px solid gray;flex-grow: 1;}#sk-container-id-2 div.sk-label:hover label.sk-toggleable__label {background-color: #d4ebff;}#sk-container-id-2 div.sk-serial::before {content: \"\";position: absolute;border-left: 1px solid gray;box-sizing: border-box;top: 0;bottom: 0;left: 50%;z-index: 0;}#sk-container-id-2 div.sk-serial {display: flex;flex-direction: column;align-items: center;background-color: white;padding-right: 0.2em;padding-left: 0.2em;position: relative;}#sk-container-id-2 div.sk-item {position: relative;z-index: 1;}#sk-container-id-2 div.sk-parallel {display: flex;align-items: stretch;justify-content: center;background-color: white;position: relative;}#sk-container-id-2 div.sk-item::before, #sk-container-id-2 div.sk-parallel-item::before {content: \"\";position: absolute;border-left: 1px solid gray;box-sizing: border-box;top: 0;bottom: 0;left: 50%;z-index: -1;}#sk-container-id-2 div.sk-parallel-item {display: flex;flex-direction: column;z-index: 1;position: relative;background-color: white;}#sk-container-id-2 div.sk-parallel-item:first-child::after {align-self: flex-end;width: 50%;}#sk-container-id-2 div.sk-parallel-item:last-child::after {align-self: flex-start;width: 50%;}#sk-container-id-2 div.sk-parallel-item:only-child::after {width: 0;}#sk-container-id-2 div.sk-dashed-wrapped {border: 1px dashed gray;margin: 0 0.4em 0.5em 0.4em;box-sizing: border-box;padding-bottom: 0.4em;background-color: white;}#sk-container-id-2 div.sk-label label {font-family: monospace;font-weight: bold;display: inline-block;line-height: 1.2em;}#sk-container-id-2 div.sk-label-container {text-align: center;}#sk-container-id-2 div.sk-container {/* jupyter's `normalize.less` sets `[hidden] { display: none; }` but bootstrap.min.css set `[hidden] { display: none !important; }` so we also need the `!important` here to be able to override the default hidden behavior on the sphinx rendered scikit-learn.org. See: https://github.com/scikit-learn/scikit-learn/issues/21755 */display: inline-block !important;position: relative;}#sk-container-id-2 div.sk-text-repr-fallback {display: none;}</style><div id=\"sk-container-id-2\" class=\"sk-top-container\"><div class=\"sk-text-repr-fallback\"><pre>LogisticRegression()</pre><b>In a Jupyter environment, please rerun this cell to show the HTML representation or trust the notebook. <br />On GitHub, the HTML representation is unable to render, please try loading this page with nbviewer.org.</b></div><div class=\"sk-container\" hidden><div class=\"sk-item\"><div class=\"sk-estimator sk-toggleable\"><input class=\"sk-toggleable__control sk-hidden--visually\" id=\"sk-estimator-id-2\" type=\"checkbox\" checked><label for=\"sk-estimator-id-2\" class=\"sk-toggleable__label sk-toggleable__label-arrow\">LogisticRegression</label><div class=\"sk-toggleable__content\"><pre>LogisticRegression()</pre></div></div></div></div></div>"
      ],
      "text/plain": [
       "LogisticRegression()"
      ]
     },
     "execution_count": 42,
     "metadata": {},
     "output_type": "execute_result"
    }
   ],
   "source": [
    "from sklearn.model_selection import GridSearchCV\n",
    "\n",
    "lr_model_new = LogisticRegression()\n",
    "lr_model_new"
   ]
  },
  {
   "cell_type": "code",
   "execution_count": 43,
   "id": "29413087",
   "metadata": {
    "execution": {
     "iopub.execute_input": "2024-04-20T20:30:53.179479Z",
     "iopub.status.busy": "2024-04-20T20:30:53.178713Z",
     "iopub.status.idle": "2024-04-20T20:30:53.183399Z",
     "shell.execute_reply": "2024-04-20T20:30:53.182438Z"
    },
    "papermill": {
     "duration": 0.036285,
     "end_time": "2024-04-20T20:30:53.185564",
     "exception": false,
     "start_time": "2024-04-20T20:30:53.149279",
     "status": "completed"
    },
    "tags": []
   },
   "outputs": [],
   "source": [
    "parameters = {\"penalty\":[\"l1\",\"l2\"], \"solver\" : ['newton-cg', 'lbfgs', 'liblinear', 'sag', 'saga']}\n",
    "\n"
   ]
  },
  {
   "cell_type": "code",
   "execution_count": 44,
   "id": "cf07b785",
   "metadata": {
    "execution": {
     "iopub.execute_input": "2024-04-20T20:30:53.245108Z",
     "iopub.status.busy": "2024-04-20T20:30:53.244389Z",
     "iopub.status.idle": "2024-04-20T20:30:53.249092Z",
     "shell.execute_reply": "2024-04-20T20:30:53.248152Z"
    },
    "papermill": {
     "duration": 0.037282,
     "end_time": "2024-04-20T20:30:53.251117",
     "exception": false,
     "start_time": "2024-04-20T20:30:53.213835",
     "status": "completed"
    },
    "tags": []
   },
   "outputs": [],
   "source": [
    "log_reg_grid = GridSearchCV(lr_model_new, param_grid = parameters)\n"
   ]
  },
  {
   "cell_type": "code",
   "execution_count": 45,
   "id": "6af15b57",
   "metadata": {
    "execution": {
     "iopub.execute_input": "2024-04-20T20:30:53.311132Z",
     "iopub.status.busy": "2024-04-20T20:30:53.310753Z",
     "iopub.status.idle": "2024-04-20T20:30:53.726320Z",
     "shell.execute_reply": "2024-04-20T20:30:53.724792Z"
    },
    "papermill": {
     "duration": 0.44797,
     "end_time": "2024-04-20T20:30:53.729354",
     "exception": false,
     "start_time": "2024-04-20T20:30:53.281384",
     "status": "completed"
    },
    "tags": []
   },
   "outputs": [
    {
     "name": "stderr",
     "output_type": "stream",
     "text": [
      "/opt/conda/lib/python3.10/site-packages/sklearn/linear_model/_sag.py:350: ConvergenceWarning: The max_iter was reached which means the coef_ did not converge\n",
      "  warnings.warn(\n",
      "/opt/conda/lib/python3.10/site-packages/sklearn/linear_model/_sag.py:350: ConvergenceWarning: The max_iter was reached which means the coef_ did not converge\n",
      "  warnings.warn(\n",
      "/opt/conda/lib/python3.10/site-packages/sklearn/linear_model/_sag.py:350: ConvergenceWarning: The max_iter was reached which means the coef_ did not converge\n",
      "  warnings.warn(\n",
      "/opt/conda/lib/python3.10/site-packages/sklearn/linear_model/_sag.py:350: ConvergenceWarning: The max_iter was reached which means the coef_ did not converge\n",
      "  warnings.warn(\n",
      "/opt/conda/lib/python3.10/site-packages/sklearn/linear_model/_sag.py:350: ConvergenceWarning: The max_iter was reached which means the coef_ did not converge\n",
      "  warnings.warn(\n",
      "/opt/conda/lib/python3.10/site-packages/sklearn/linear_model/_sag.py:350: ConvergenceWarning: The max_iter was reached which means the coef_ did not converge\n",
      "  warnings.warn(\n",
      "/opt/conda/lib/python3.10/site-packages/sklearn/linear_model/_sag.py:350: ConvergenceWarning: The max_iter was reached which means the coef_ did not converge\n",
      "  warnings.warn(\n",
      "/opt/conda/lib/python3.10/site-packages/sklearn/linear_model/_sag.py:350: ConvergenceWarning: The max_iter was reached which means the coef_ did not converge\n",
      "  warnings.warn(\n",
      "/opt/conda/lib/python3.10/site-packages/sklearn/linear_model/_sag.py:350: ConvergenceWarning: The max_iter was reached which means the coef_ did not converge\n",
      "  warnings.warn(\n",
      "/opt/conda/lib/python3.10/site-packages/sklearn/linear_model/_sag.py:350: ConvergenceWarning: The max_iter was reached which means the coef_ did not converge\n",
      "  warnings.warn(\n",
      "/opt/conda/lib/python3.10/site-packages/sklearn/linear_model/_sag.py:350: ConvergenceWarning: The max_iter was reached which means the coef_ did not converge\n",
      "  warnings.warn(\n",
      "/opt/conda/lib/python3.10/site-packages/sklearn/linear_model/_sag.py:350: ConvergenceWarning: The max_iter was reached which means the coef_ did not converge\n",
      "  warnings.warn(\n",
      "/opt/conda/lib/python3.10/site-packages/sklearn/linear_model/_sag.py:350: ConvergenceWarning: The max_iter was reached which means the coef_ did not converge\n",
      "  warnings.warn(\n",
      "/opt/conda/lib/python3.10/site-packages/sklearn/linear_model/_sag.py:350: ConvergenceWarning: The max_iter was reached which means the coef_ did not converge\n",
      "  warnings.warn(\n",
      "/opt/conda/lib/python3.10/site-packages/sklearn/linear_model/_sag.py:350: ConvergenceWarning: The max_iter was reached which means the coef_ did not converge\n",
      "  warnings.warn(\n",
      "/opt/conda/lib/python3.10/site-packages/sklearn/model_selection/_validation.py:378: FitFailedWarning: \n",
      "15 fits failed out of a total of 50.\n",
      "The score on these train-test partitions for these parameters will be set to nan.\n",
      "If these failures are not expected, you can try to debug them by setting error_score='raise'.\n",
      "\n",
      "Below are more details about the failures:\n",
      "--------------------------------------------------------------------------------\n",
      "5 fits failed with the following error:\n",
      "Traceback (most recent call last):\n",
      "  File \"/opt/conda/lib/python3.10/site-packages/sklearn/model_selection/_validation.py\", line 686, in _fit_and_score\n",
      "    estimator.fit(X_train, y_train, **fit_params)\n",
      "  File \"/opt/conda/lib/python3.10/site-packages/sklearn/linear_model/_logistic.py\", line 1162, in fit\n",
      "    solver = _check_solver(self.solver, self.penalty, self.dual)\n",
      "  File \"/opt/conda/lib/python3.10/site-packages/sklearn/linear_model/_logistic.py\", line 54, in _check_solver\n",
      "    raise ValueError(\n",
      "ValueError: Solver newton-cg supports only 'l2' or 'none' penalties, got l1 penalty.\n",
      "\n",
      "--------------------------------------------------------------------------------\n",
      "5 fits failed with the following error:\n",
      "Traceback (most recent call last):\n",
      "  File \"/opt/conda/lib/python3.10/site-packages/sklearn/model_selection/_validation.py\", line 686, in _fit_and_score\n",
      "    estimator.fit(X_train, y_train, **fit_params)\n",
      "  File \"/opt/conda/lib/python3.10/site-packages/sklearn/linear_model/_logistic.py\", line 1162, in fit\n",
      "    solver = _check_solver(self.solver, self.penalty, self.dual)\n",
      "  File \"/opt/conda/lib/python3.10/site-packages/sklearn/linear_model/_logistic.py\", line 54, in _check_solver\n",
      "    raise ValueError(\n",
      "ValueError: Solver lbfgs supports only 'l2' or 'none' penalties, got l1 penalty.\n",
      "\n",
      "--------------------------------------------------------------------------------\n",
      "5 fits failed with the following error:\n",
      "Traceback (most recent call last):\n",
      "  File \"/opt/conda/lib/python3.10/site-packages/sklearn/model_selection/_validation.py\", line 686, in _fit_and_score\n",
      "    estimator.fit(X_train, y_train, **fit_params)\n",
      "  File \"/opt/conda/lib/python3.10/site-packages/sklearn/linear_model/_logistic.py\", line 1162, in fit\n",
      "    solver = _check_solver(self.solver, self.penalty, self.dual)\n",
      "  File \"/opt/conda/lib/python3.10/site-packages/sklearn/linear_model/_logistic.py\", line 54, in _check_solver\n",
      "    raise ValueError(\n",
      "ValueError: Solver sag supports only 'l2' or 'none' penalties, got l1 penalty.\n",
      "\n",
      "  warnings.warn(some_fits_failed_message, FitFailedWarning)\n",
      "/opt/conda/lib/python3.10/site-packages/sklearn/model_selection/_search.py:952: UserWarning: One or more of the test scores are non-finite: [       nan        nan 0.78654558        nan 0.70417916 0.78280727\n",
      " 0.78280727 0.78467642 0.69292894 0.70417916]\n",
      "  warnings.warn(\n"
     ]
    },
    {
     "data": {
      "text/html": [
       "<style>#sk-container-id-3 {color: black;background-color: white;}#sk-container-id-3 pre{padding: 0;}#sk-container-id-3 div.sk-toggleable {background-color: white;}#sk-container-id-3 label.sk-toggleable__label {cursor: pointer;display: block;width: 100%;margin-bottom: 0;padding: 0.3em;box-sizing: border-box;text-align: center;}#sk-container-id-3 label.sk-toggleable__label-arrow:before {content: \"▸\";float: left;margin-right: 0.25em;color: #696969;}#sk-container-id-3 label.sk-toggleable__label-arrow:hover:before {color: black;}#sk-container-id-3 div.sk-estimator:hover label.sk-toggleable__label-arrow:before {color: black;}#sk-container-id-3 div.sk-toggleable__content {max-height: 0;max-width: 0;overflow: hidden;text-align: left;background-color: #f0f8ff;}#sk-container-id-3 div.sk-toggleable__content pre {margin: 0.2em;color: black;border-radius: 0.25em;background-color: #f0f8ff;}#sk-container-id-3 input.sk-toggleable__control:checked~div.sk-toggleable__content {max-height: 200px;max-width: 100%;overflow: auto;}#sk-container-id-3 input.sk-toggleable__control:checked~label.sk-toggleable__label-arrow:before {content: \"▾\";}#sk-container-id-3 div.sk-estimator input.sk-toggleable__control:checked~label.sk-toggleable__label {background-color: #d4ebff;}#sk-container-id-3 div.sk-label input.sk-toggleable__control:checked~label.sk-toggleable__label {background-color: #d4ebff;}#sk-container-id-3 input.sk-hidden--visually {border: 0;clip: rect(1px 1px 1px 1px);clip: rect(1px, 1px, 1px, 1px);height: 1px;margin: -1px;overflow: hidden;padding: 0;position: absolute;width: 1px;}#sk-container-id-3 div.sk-estimator {font-family: monospace;background-color: #f0f8ff;border: 1px dotted black;border-radius: 0.25em;box-sizing: border-box;margin-bottom: 0.5em;}#sk-container-id-3 div.sk-estimator:hover {background-color: #d4ebff;}#sk-container-id-3 div.sk-parallel-item::after {content: \"\";width: 100%;border-bottom: 1px solid gray;flex-grow: 1;}#sk-container-id-3 div.sk-label:hover label.sk-toggleable__label {background-color: #d4ebff;}#sk-container-id-3 div.sk-serial::before {content: \"\";position: absolute;border-left: 1px solid gray;box-sizing: border-box;top: 0;bottom: 0;left: 50%;z-index: 0;}#sk-container-id-3 div.sk-serial {display: flex;flex-direction: column;align-items: center;background-color: white;padding-right: 0.2em;padding-left: 0.2em;position: relative;}#sk-container-id-3 div.sk-item {position: relative;z-index: 1;}#sk-container-id-3 div.sk-parallel {display: flex;align-items: stretch;justify-content: center;background-color: white;position: relative;}#sk-container-id-3 div.sk-item::before, #sk-container-id-3 div.sk-parallel-item::before {content: \"\";position: absolute;border-left: 1px solid gray;box-sizing: border-box;top: 0;bottom: 0;left: 50%;z-index: -1;}#sk-container-id-3 div.sk-parallel-item {display: flex;flex-direction: column;z-index: 1;position: relative;background-color: white;}#sk-container-id-3 div.sk-parallel-item:first-child::after {align-self: flex-end;width: 50%;}#sk-container-id-3 div.sk-parallel-item:last-child::after {align-self: flex-start;width: 50%;}#sk-container-id-3 div.sk-parallel-item:only-child::after {width: 0;}#sk-container-id-3 div.sk-dashed-wrapped {border: 1px dashed gray;margin: 0 0.4em 0.5em 0.4em;box-sizing: border-box;padding-bottom: 0.4em;background-color: white;}#sk-container-id-3 div.sk-label label {font-family: monospace;font-weight: bold;display: inline-block;line-height: 1.2em;}#sk-container-id-3 div.sk-label-container {text-align: center;}#sk-container-id-3 div.sk-container {/* jupyter's `normalize.less` sets `[hidden] { display: none; }` but bootstrap.min.css set `[hidden] { display: none !important; }` so we also need the `!important` here to be able to override the default hidden behavior on the sphinx rendered scikit-learn.org. See: https://github.com/scikit-learn/scikit-learn/issues/21755 */display: inline-block !important;position: relative;}#sk-container-id-3 div.sk-text-repr-fallback {display: none;}</style><div id=\"sk-container-id-3\" class=\"sk-top-container\"><div class=\"sk-text-repr-fallback\"><pre>GridSearchCV(estimator=LogisticRegression(),\n",
       "             param_grid={&#x27;penalty&#x27;: [&#x27;l1&#x27;, &#x27;l2&#x27;],\n",
       "                         &#x27;solver&#x27;: [&#x27;newton-cg&#x27;, &#x27;lbfgs&#x27;, &#x27;liblinear&#x27;, &#x27;sag&#x27;,\n",
       "                                    &#x27;saga&#x27;]})</pre><b>In a Jupyter environment, please rerun this cell to show the HTML representation or trust the notebook. <br />On GitHub, the HTML representation is unable to render, please try loading this page with nbviewer.org.</b></div><div class=\"sk-container\" hidden><div class=\"sk-item sk-dashed-wrapped\"><div class=\"sk-label-container\"><div class=\"sk-label sk-toggleable\"><input class=\"sk-toggleable__control sk-hidden--visually\" id=\"sk-estimator-id-3\" type=\"checkbox\" ><label for=\"sk-estimator-id-3\" class=\"sk-toggleable__label sk-toggleable__label-arrow\">GridSearchCV</label><div class=\"sk-toggleable__content\"><pre>GridSearchCV(estimator=LogisticRegression(),\n",
       "             param_grid={&#x27;penalty&#x27;: [&#x27;l1&#x27;, &#x27;l2&#x27;],\n",
       "                         &#x27;solver&#x27;: [&#x27;newton-cg&#x27;, &#x27;lbfgs&#x27;, &#x27;liblinear&#x27;, &#x27;sag&#x27;,\n",
       "                                    &#x27;saga&#x27;]})</pre></div></div></div><div class=\"sk-parallel\"><div class=\"sk-parallel-item\"><div class=\"sk-item\"><div class=\"sk-label-container\"><div class=\"sk-label sk-toggleable\"><input class=\"sk-toggleable__control sk-hidden--visually\" id=\"sk-estimator-id-4\" type=\"checkbox\" ><label for=\"sk-estimator-id-4\" class=\"sk-toggleable__label sk-toggleable__label-arrow\">estimator: LogisticRegression</label><div class=\"sk-toggleable__content\"><pre>LogisticRegression()</pre></div></div></div><div class=\"sk-serial\"><div class=\"sk-item\"><div class=\"sk-estimator sk-toggleable\"><input class=\"sk-toggleable__control sk-hidden--visually\" id=\"sk-estimator-id-5\" type=\"checkbox\" ><label for=\"sk-estimator-id-5\" class=\"sk-toggleable__label sk-toggleable__label-arrow\">LogisticRegression</label><div class=\"sk-toggleable__content\"><pre>LogisticRegression()</pre></div></div></div></div></div></div></div></div></div></div>"
      ],
      "text/plain": [
       "GridSearchCV(estimator=LogisticRegression(),\n",
       "             param_grid={'penalty': ['l1', 'l2'],\n",
       "                         'solver': ['newton-cg', 'lbfgs', 'liblinear', 'sag',\n",
       "                                    'saga']})"
      ]
     },
     "execution_count": 45,
     "metadata": {},
     "output_type": "execute_result"
    }
   ],
   "source": [
    "log_reg_grid.fit(X_train, y_train)"
   ]
  },
  {
   "cell_type": "code",
   "execution_count": 46,
   "id": "150157de",
   "metadata": {
    "execution": {
     "iopub.execute_input": "2024-04-20T20:30:53.791289Z",
     "iopub.status.busy": "2024-04-20T20:30:53.790890Z",
     "iopub.status.idle": "2024-04-20T20:30:53.796512Z",
     "shell.execute_reply": "2024-04-20T20:30:53.795405Z"
    },
    "papermill": {
     "duration": 0.040055,
     "end_time": "2024-04-20T20:30:53.798900",
     "exception": false,
     "start_time": "2024-04-20T20:30:53.758845",
     "status": "completed"
    },
    "tags": []
   },
   "outputs": [
    {
     "name": "stdout",
     "output_type": "stream",
     "text": [
      "Best Parameters:  {'penalty': 'l1', 'solver': 'liblinear'}\n"
     ]
    }
   ],
   "source": [
    "print(\"Best Parameters: \", log_reg_grid.best_params_)"
   ]
  },
  {
   "cell_type": "code",
   "execution_count": 47,
   "id": "e218ceab",
   "metadata": {
    "execution": {
     "iopub.execute_input": "2024-04-20T20:30:53.869670Z",
     "iopub.status.busy": "2024-04-20T20:30:53.868920Z",
     "iopub.status.idle": "2024-04-20T20:30:53.876402Z",
     "shell.execute_reply": "2024-04-20T20:30:53.875390Z"
    },
    "papermill": {
     "duration": 0.050447,
     "end_time": "2024-04-20T20:30:53.878578",
     "exception": false,
     "start_time": "2024-04-20T20:30:53.828131",
     "status": "completed"
    },
    "tags": []
   },
   "outputs": [
    {
     "data": {
      "text/html": [
       "<style>#sk-container-id-4 {color: black;background-color: white;}#sk-container-id-4 pre{padding: 0;}#sk-container-id-4 div.sk-toggleable {background-color: white;}#sk-container-id-4 label.sk-toggleable__label {cursor: pointer;display: block;width: 100%;margin-bottom: 0;padding: 0.3em;box-sizing: border-box;text-align: center;}#sk-container-id-4 label.sk-toggleable__label-arrow:before {content: \"▸\";float: left;margin-right: 0.25em;color: #696969;}#sk-container-id-4 label.sk-toggleable__label-arrow:hover:before {color: black;}#sk-container-id-4 div.sk-estimator:hover label.sk-toggleable__label-arrow:before {color: black;}#sk-container-id-4 div.sk-toggleable__content {max-height: 0;max-width: 0;overflow: hidden;text-align: left;background-color: #f0f8ff;}#sk-container-id-4 div.sk-toggleable__content pre {margin: 0.2em;color: black;border-radius: 0.25em;background-color: #f0f8ff;}#sk-container-id-4 input.sk-toggleable__control:checked~div.sk-toggleable__content {max-height: 200px;max-width: 100%;overflow: auto;}#sk-container-id-4 input.sk-toggleable__control:checked~label.sk-toggleable__label-arrow:before {content: \"▾\";}#sk-container-id-4 div.sk-estimator input.sk-toggleable__control:checked~label.sk-toggleable__label {background-color: #d4ebff;}#sk-container-id-4 div.sk-label input.sk-toggleable__control:checked~label.sk-toggleable__label {background-color: #d4ebff;}#sk-container-id-4 input.sk-hidden--visually {border: 0;clip: rect(1px 1px 1px 1px);clip: rect(1px, 1px, 1px, 1px);height: 1px;margin: -1px;overflow: hidden;padding: 0;position: absolute;width: 1px;}#sk-container-id-4 div.sk-estimator {font-family: monospace;background-color: #f0f8ff;border: 1px dotted black;border-radius: 0.25em;box-sizing: border-box;margin-bottom: 0.5em;}#sk-container-id-4 div.sk-estimator:hover {background-color: #d4ebff;}#sk-container-id-4 div.sk-parallel-item::after {content: \"\";width: 100%;border-bottom: 1px solid gray;flex-grow: 1;}#sk-container-id-4 div.sk-label:hover label.sk-toggleable__label {background-color: #d4ebff;}#sk-container-id-4 div.sk-serial::before {content: \"\";position: absolute;border-left: 1px solid gray;box-sizing: border-box;top: 0;bottom: 0;left: 50%;z-index: 0;}#sk-container-id-4 div.sk-serial {display: flex;flex-direction: column;align-items: center;background-color: white;padding-right: 0.2em;padding-left: 0.2em;position: relative;}#sk-container-id-4 div.sk-item {position: relative;z-index: 1;}#sk-container-id-4 div.sk-parallel {display: flex;align-items: stretch;justify-content: center;background-color: white;position: relative;}#sk-container-id-4 div.sk-item::before, #sk-container-id-4 div.sk-parallel-item::before {content: \"\";position: absolute;border-left: 1px solid gray;box-sizing: border-box;top: 0;bottom: 0;left: 50%;z-index: -1;}#sk-container-id-4 div.sk-parallel-item {display: flex;flex-direction: column;z-index: 1;position: relative;background-color: white;}#sk-container-id-4 div.sk-parallel-item:first-child::after {align-self: flex-end;width: 50%;}#sk-container-id-4 div.sk-parallel-item:last-child::after {align-self: flex-start;width: 50%;}#sk-container-id-4 div.sk-parallel-item:only-child::after {width: 0;}#sk-container-id-4 div.sk-dashed-wrapped {border: 1px dashed gray;margin: 0 0.4em 0.5em 0.4em;box-sizing: border-box;padding-bottom: 0.4em;background-color: white;}#sk-container-id-4 div.sk-label label {font-family: monospace;font-weight: bold;display: inline-block;line-height: 1.2em;}#sk-container-id-4 div.sk-label-container {text-align: center;}#sk-container-id-4 div.sk-container {/* jupyter's `normalize.less` sets `[hidden] { display: none; }` but bootstrap.min.css set `[hidden] { display: none !important; }` so we also need the `!important` here to be able to override the default hidden behavior on the sphinx rendered scikit-learn.org. See: https://github.com/scikit-learn/scikit-learn/issues/21755 */display: inline-block !important;position: relative;}#sk-container-id-4 div.sk-text-repr-fallback {display: none;}</style><div id=\"sk-container-id-4\" class=\"sk-top-container\"><div class=\"sk-text-repr-fallback\"><pre>LogisticRegression(solver=&#x27;newton-cg&#x27;)</pre><b>In a Jupyter environment, please rerun this cell to show the HTML representation or trust the notebook. <br />On GitHub, the HTML representation is unable to render, please try loading this page with nbviewer.org.</b></div><div class=\"sk-container\" hidden><div class=\"sk-item\"><div class=\"sk-estimator sk-toggleable\"><input class=\"sk-toggleable__control sk-hidden--visually\" id=\"sk-estimator-id-6\" type=\"checkbox\" checked><label for=\"sk-estimator-id-6\" class=\"sk-toggleable__label sk-toggleable__label-arrow\">LogisticRegression</label><div class=\"sk-toggleable__content\"><pre>LogisticRegression(solver=&#x27;newton-cg&#x27;)</pre></div></div></div></div></div>"
      ],
      "text/plain": [
       "LogisticRegression(solver='newton-cg')"
      ]
     },
     "execution_count": 47,
     "metadata": {},
     "output_type": "execute_result"
    }
   ],
   "source": [
    "lr_model_new2 = LogisticRegression(penalty = \"l2\", solver = \"newton-cg\")\n",
    "lr_model_new2"
   ]
  },
  {
   "cell_type": "code",
   "execution_count": 48,
   "id": "b0cd6751",
   "metadata": {
    "execution": {
     "iopub.execute_input": "2024-04-20T20:30:53.938972Z",
     "iopub.status.busy": "2024-04-20T20:30:53.938083Z",
     "iopub.status.idle": "2024-04-20T20:30:53.958120Z",
     "shell.execute_reply": "2024-04-20T20:30:53.957051Z"
    },
    "papermill": {
     "duration": 0.052621,
     "end_time": "2024-04-20T20:30:53.960485",
     "exception": false,
     "start_time": "2024-04-20T20:30:53.907864",
     "status": "completed"
    },
    "tags": []
   },
   "outputs": [
    {
     "data": {
      "text/html": [
       "<style>#sk-container-id-5 {color: black;background-color: white;}#sk-container-id-5 pre{padding: 0;}#sk-container-id-5 div.sk-toggleable {background-color: white;}#sk-container-id-5 label.sk-toggleable__label {cursor: pointer;display: block;width: 100%;margin-bottom: 0;padding: 0.3em;box-sizing: border-box;text-align: center;}#sk-container-id-5 label.sk-toggleable__label-arrow:before {content: \"▸\";float: left;margin-right: 0.25em;color: #696969;}#sk-container-id-5 label.sk-toggleable__label-arrow:hover:before {color: black;}#sk-container-id-5 div.sk-estimator:hover label.sk-toggleable__label-arrow:before {color: black;}#sk-container-id-5 div.sk-toggleable__content {max-height: 0;max-width: 0;overflow: hidden;text-align: left;background-color: #f0f8ff;}#sk-container-id-5 div.sk-toggleable__content pre {margin: 0.2em;color: black;border-radius: 0.25em;background-color: #f0f8ff;}#sk-container-id-5 input.sk-toggleable__control:checked~div.sk-toggleable__content {max-height: 200px;max-width: 100%;overflow: auto;}#sk-container-id-5 input.sk-toggleable__control:checked~label.sk-toggleable__label-arrow:before {content: \"▾\";}#sk-container-id-5 div.sk-estimator input.sk-toggleable__control:checked~label.sk-toggleable__label {background-color: #d4ebff;}#sk-container-id-5 div.sk-label input.sk-toggleable__control:checked~label.sk-toggleable__label {background-color: #d4ebff;}#sk-container-id-5 input.sk-hidden--visually {border: 0;clip: rect(1px 1px 1px 1px);clip: rect(1px, 1px, 1px, 1px);height: 1px;margin: -1px;overflow: hidden;padding: 0;position: absolute;width: 1px;}#sk-container-id-5 div.sk-estimator {font-family: monospace;background-color: #f0f8ff;border: 1px dotted black;border-radius: 0.25em;box-sizing: border-box;margin-bottom: 0.5em;}#sk-container-id-5 div.sk-estimator:hover {background-color: #d4ebff;}#sk-container-id-5 div.sk-parallel-item::after {content: \"\";width: 100%;border-bottom: 1px solid gray;flex-grow: 1;}#sk-container-id-5 div.sk-label:hover label.sk-toggleable__label {background-color: #d4ebff;}#sk-container-id-5 div.sk-serial::before {content: \"\";position: absolute;border-left: 1px solid gray;box-sizing: border-box;top: 0;bottom: 0;left: 50%;z-index: 0;}#sk-container-id-5 div.sk-serial {display: flex;flex-direction: column;align-items: center;background-color: white;padding-right: 0.2em;padding-left: 0.2em;position: relative;}#sk-container-id-5 div.sk-item {position: relative;z-index: 1;}#sk-container-id-5 div.sk-parallel {display: flex;align-items: stretch;justify-content: center;background-color: white;position: relative;}#sk-container-id-5 div.sk-item::before, #sk-container-id-5 div.sk-parallel-item::before {content: \"\";position: absolute;border-left: 1px solid gray;box-sizing: border-box;top: 0;bottom: 0;left: 50%;z-index: -1;}#sk-container-id-5 div.sk-parallel-item {display: flex;flex-direction: column;z-index: 1;position: relative;background-color: white;}#sk-container-id-5 div.sk-parallel-item:first-child::after {align-self: flex-end;width: 50%;}#sk-container-id-5 div.sk-parallel-item:last-child::after {align-self: flex-start;width: 50%;}#sk-container-id-5 div.sk-parallel-item:only-child::after {width: 0;}#sk-container-id-5 div.sk-dashed-wrapped {border: 1px dashed gray;margin: 0 0.4em 0.5em 0.4em;box-sizing: border-box;padding-bottom: 0.4em;background-color: white;}#sk-container-id-5 div.sk-label label {font-family: monospace;font-weight: bold;display: inline-block;line-height: 1.2em;}#sk-container-id-5 div.sk-label-container {text-align: center;}#sk-container-id-5 div.sk-container {/* jupyter's `normalize.less` sets `[hidden] { display: none; }` but bootstrap.min.css set `[hidden] { display: none !important; }` so we also need the `!important` here to be able to override the default hidden behavior on the sphinx rendered scikit-learn.org. See: https://github.com/scikit-learn/scikit-learn/issues/21755 */display: inline-block !important;position: relative;}#sk-container-id-5 div.sk-text-repr-fallback {display: none;}</style><div id=\"sk-container-id-5\" class=\"sk-top-container\"><div class=\"sk-text-repr-fallback\"><pre>LogisticRegression(solver=&#x27;newton-cg&#x27;)</pre><b>In a Jupyter environment, please rerun this cell to show the HTML representation or trust the notebook. <br />On GitHub, the HTML representation is unable to render, please try loading this page with nbviewer.org.</b></div><div class=\"sk-container\" hidden><div class=\"sk-item\"><div class=\"sk-estimator sk-toggleable\"><input class=\"sk-toggleable__control sk-hidden--visually\" id=\"sk-estimator-id-7\" type=\"checkbox\" checked><label for=\"sk-estimator-id-7\" class=\"sk-toggleable__label sk-toggleable__label-arrow\">LogisticRegression</label><div class=\"sk-toggleable__content\"><pre>LogisticRegression(solver=&#x27;newton-cg&#x27;)</pre></div></div></div></div></div>"
      ],
      "text/plain": [
       "LogisticRegression(solver='newton-cg')"
      ]
     },
     "execution_count": 48,
     "metadata": {},
     "output_type": "execute_result"
    }
   ],
   "source": [
    "lr_model_new2.fit(X_train, y_train)"
   ]
  },
  {
   "cell_type": "code",
   "execution_count": 49,
   "id": "b371c54f",
   "metadata": {
    "execution": {
     "iopub.execute_input": "2024-04-20T20:30:54.021242Z",
     "iopub.status.busy": "2024-04-20T20:30:54.020411Z",
     "iopub.status.idle": "2024-04-20T20:30:54.028924Z",
     "shell.execute_reply": "2024-04-20T20:30:54.027968Z"
    },
    "papermill": {
     "duration": 0.041189,
     "end_time": "2024-04-20T20:30:54.030997",
     "exception": false,
     "start_time": "2024-04-20T20:30:53.989808",
     "status": "completed"
    },
    "tags": []
   },
   "outputs": [
    {
     "name": "stdout",
     "output_type": "stream",
     "text": [
      "The test accuracy score of Logistic Regression After hyper-parameter tuning is: 0.7415730337078652\n"
     ]
    }
   ],
   "source": [
    "y_pred = lr_model_new2.predict(X_test)\n",
    "\n",
    "print(\"The test accuracy score of Logistic Regression After hyper-parameter tuning is: {}\".format(accuracy_score(y_test, y_pred)))"
   ]
  },
  {
   "cell_type": "markdown",
   "id": "e389e13d",
   "metadata": {
    "papermill": {
     "duration": 0.028929,
     "end_time": "2024-04-20T20:30:54.089081",
     "exception": false,
     "start_time": "2024-04-20T20:30:54.060152",
     "status": "completed"
    },
    "tags": []
   },
   "source": [
    "#### 2. Decision Tree Algorithm"
   ]
  },
  {
   "cell_type": "code",
   "execution_count": 50,
   "id": "519f4fc1",
   "metadata": {
    "execution": {
     "iopub.execute_input": "2024-04-20T20:30:54.150220Z",
     "iopub.status.busy": "2024-04-20T20:30:54.149281Z",
     "iopub.status.idle": "2024-04-20T20:30:54.247897Z",
     "shell.execute_reply": "2024-04-20T20:30:54.246900Z"
    },
    "papermill": {
     "duration": 0.131611,
     "end_time": "2024-04-20T20:30:54.250135",
     "exception": false,
     "start_time": "2024-04-20T20:30:54.118524",
     "status": "completed"
    },
    "tags": []
   },
   "outputs": [
    {
     "data": {
      "text/html": [
       "<style>#sk-container-id-6 {color: black;background-color: white;}#sk-container-id-6 pre{padding: 0;}#sk-container-id-6 div.sk-toggleable {background-color: white;}#sk-container-id-6 label.sk-toggleable__label {cursor: pointer;display: block;width: 100%;margin-bottom: 0;padding: 0.3em;box-sizing: border-box;text-align: center;}#sk-container-id-6 label.sk-toggleable__label-arrow:before {content: \"▸\";float: left;margin-right: 0.25em;color: #696969;}#sk-container-id-6 label.sk-toggleable__label-arrow:hover:before {color: black;}#sk-container-id-6 div.sk-estimator:hover label.sk-toggleable__label-arrow:before {color: black;}#sk-container-id-6 div.sk-toggleable__content {max-height: 0;max-width: 0;overflow: hidden;text-align: left;background-color: #f0f8ff;}#sk-container-id-6 div.sk-toggleable__content pre {margin: 0.2em;color: black;border-radius: 0.25em;background-color: #f0f8ff;}#sk-container-id-6 input.sk-toggleable__control:checked~div.sk-toggleable__content {max-height: 200px;max-width: 100%;overflow: auto;}#sk-container-id-6 input.sk-toggleable__control:checked~label.sk-toggleable__label-arrow:before {content: \"▾\";}#sk-container-id-6 div.sk-estimator input.sk-toggleable__control:checked~label.sk-toggleable__label {background-color: #d4ebff;}#sk-container-id-6 div.sk-label input.sk-toggleable__control:checked~label.sk-toggleable__label {background-color: #d4ebff;}#sk-container-id-6 input.sk-hidden--visually {border: 0;clip: rect(1px 1px 1px 1px);clip: rect(1px, 1px, 1px, 1px);height: 1px;margin: -1px;overflow: hidden;padding: 0;position: absolute;width: 1px;}#sk-container-id-6 div.sk-estimator {font-family: monospace;background-color: #f0f8ff;border: 1px dotted black;border-radius: 0.25em;box-sizing: border-box;margin-bottom: 0.5em;}#sk-container-id-6 div.sk-estimator:hover {background-color: #d4ebff;}#sk-container-id-6 div.sk-parallel-item::after {content: \"\";width: 100%;border-bottom: 1px solid gray;flex-grow: 1;}#sk-container-id-6 div.sk-label:hover label.sk-toggleable__label {background-color: #d4ebff;}#sk-container-id-6 div.sk-serial::before {content: \"\";position: absolute;border-left: 1px solid gray;box-sizing: border-box;top: 0;bottom: 0;left: 50%;z-index: 0;}#sk-container-id-6 div.sk-serial {display: flex;flex-direction: column;align-items: center;background-color: white;padding-right: 0.2em;padding-left: 0.2em;position: relative;}#sk-container-id-6 div.sk-item {position: relative;z-index: 1;}#sk-container-id-6 div.sk-parallel {display: flex;align-items: stretch;justify-content: center;background-color: white;position: relative;}#sk-container-id-6 div.sk-item::before, #sk-container-id-6 div.sk-parallel-item::before {content: \"\";position: absolute;border-left: 1px solid gray;box-sizing: border-box;top: 0;bottom: 0;left: 50%;z-index: -1;}#sk-container-id-6 div.sk-parallel-item {display: flex;flex-direction: column;z-index: 1;position: relative;background-color: white;}#sk-container-id-6 div.sk-parallel-item:first-child::after {align-self: flex-end;width: 50%;}#sk-container-id-6 div.sk-parallel-item:last-child::after {align-self: flex-start;width: 50%;}#sk-container-id-6 div.sk-parallel-item:only-child::after {width: 0;}#sk-container-id-6 div.sk-dashed-wrapped {border: 1px dashed gray;margin: 0 0.4em 0.5em 0.4em;box-sizing: border-box;padding-bottom: 0.4em;background-color: white;}#sk-container-id-6 div.sk-label label {font-family: monospace;font-weight: bold;display: inline-block;line-height: 1.2em;}#sk-container-id-6 div.sk-label-container {text-align: center;}#sk-container-id-6 div.sk-container {/* jupyter's `normalize.less` sets `[hidden] { display: none; }` but bootstrap.min.css set `[hidden] { display: none !important; }` so we also need the `!important` here to be able to override the default hidden behavior on the sphinx rendered scikit-learn.org. See: https://github.com/scikit-learn/scikit-learn/issues/21755 */display: inline-block !important;position: relative;}#sk-container-id-6 div.sk-text-repr-fallback {display: none;}</style><div id=\"sk-container-id-6\" class=\"sk-top-container\"><div class=\"sk-text-repr-fallback\"><pre>DecisionTreeClassifier(random_state=5)</pre><b>In a Jupyter environment, please rerun this cell to show the HTML representation or trust the notebook. <br />On GitHub, the HTML representation is unable to render, please try loading this page with nbviewer.org.</b></div><div class=\"sk-container\" hidden><div class=\"sk-item\"><div class=\"sk-estimator sk-toggleable\"><input class=\"sk-toggleable__control sk-hidden--visually\" id=\"sk-estimator-id-8\" type=\"checkbox\" checked><label for=\"sk-estimator-id-8\" class=\"sk-toggleable__label sk-toggleable__label-arrow\">DecisionTreeClassifier</label><div class=\"sk-toggleable__content\"><pre>DecisionTreeClassifier(random_state=5)</pre></div></div></div></div></div>"
      ],
      "text/plain": [
       "DecisionTreeClassifier(random_state=5)"
      ]
     },
     "execution_count": 50,
     "metadata": {},
     "output_type": "execute_result"
    }
   ],
   "source": [
    "from sklearn.tree import DecisionTreeClassifier\n",
    "\n",
    "dec_tree = DecisionTreeClassifier(random_state = 5)\n",
    "\n",
    "dec_tree.fit(X_train, y_train)"
   ]
  },
  {
   "cell_type": "code",
   "execution_count": 51,
   "id": "f867ae34",
   "metadata": {
    "execution": {
     "iopub.execute_input": "2024-04-20T20:30:54.311041Z",
     "iopub.status.busy": "2024-04-20T20:30:54.310655Z",
     "iopub.status.idle": "2024-04-20T20:30:54.319987Z",
     "shell.execute_reply": "2024-04-20T20:30:54.318838Z"
    },
    "papermill": {
     "duration": 0.042231,
     "end_time": "2024-04-20T20:30:54.322154",
     "exception": false,
     "start_time": "2024-04-20T20:30:54.279923",
     "status": "completed"
    },
    "tags": []
   },
   "outputs": [
    {
     "name": "stdout",
     "output_type": "stream",
     "text": [
      "The test accuracy score of Decision Tree is: 0.7865168539325843\n"
     ]
    }
   ],
   "source": [
    "y_pred = dec_tree.predict(X_test)\n",
    "\n",
    "print(\"The test accuracy score of Decision Tree is:\", accuracy_score(y_test, y_pred))"
   ]
  },
  {
   "cell_type": "code",
   "execution_count": 52,
   "id": "25a4b113",
   "metadata": {
    "execution": {
     "iopub.execute_input": "2024-04-20T20:30:54.383509Z",
     "iopub.status.busy": "2024-04-20T20:30:54.383103Z",
     "iopub.status.idle": "2024-04-20T20:30:54.442957Z",
     "shell.execute_reply": "2024-04-20T20:30:54.441724Z"
    },
    "papermill": {
     "duration": 0.092876,
     "end_time": "2024-04-20T20:30:54.445116",
     "exception": false,
     "start_time": "2024-04-20T20:30:54.352240",
     "status": "completed"
    },
    "tags": []
   },
   "outputs": [
    {
     "name": "stdout",
     "output_type": "stream",
     "text": [
      "Cross-Validation Accuracy Scores 0.6908496732026144\n"
     ]
    }
   ],
   "source": [
    "scores = cross_val_score(dec_tree, X_test, y_test, cv = 10)\n",
    "print(\"Cross-Validation Accuracy Scores\", scores.mean())"
   ]
  },
  {
   "cell_type": "markdown",
   "id": "4fd7e907",
   "metadata": {
    "papermill": {
     "duration": 0.02939,
     "end_time": "2024-04-20T20:30:54.504408",
     "exception": false,
     "start_time": "2024-04-20T20:30:54.475018",
     "status": "completed"
    },
    "tags": []
   },
   "source": [
    "#### 3. Support Vector Machine Algorithm."
   ]
  },
  {
   "cell_type": "code",
   "execution_count": 53,
   "id": "c5d6859c",
   "metadata": {
    "execution": {
     "iopub.execute_input": "2024-04-20T20:30:54.566159Z",
     "iopub.status.busy": "2024-04-20T20:30:54.565758Z",
     "iopub.status.idle": "2024-04-20T20:30:54.586630Z",
     "shell.execute_reply": "2024-04-20T20:30:54.585422Z"
    },
    "papermill": {
     "duration": 0.054754,
     "end_time": "2024-04-20T20:30:54.589104",
     "exception": false,
     "start_time": "2024-04-20T20:30:54.534350",
     "status": "completed"
    },
    "tags": []
   },
   "outputs": [
    {
     "data": {
      "text/html": [
       "<style>#sk-container-id-7 {color: black;background-color: white;}#sk-container-id-7 pre{padding: 0;}#sk-container-id-7 div.sk-toggleable {background-color: white;}#sk-container-id-7 label.sk-toggleable__label {cursor: pointer;display: block;width: 100%;margin-bottom: 0;padding: 0.3em;box-sizing: border-box;text-align: center;}#sk-container-id-7 label.sk-toggleable__label-arrow:before {content: \"▸\";float: left;margin-right: 0.25em;color: #696969;}#sk-container-id-7 label.sk-toggleable__label-arrow:hover:before {color: black;}#sk-container-id-7 div.sk-estimator:hover label.sk-toggleable__label-arrow:before {color: black;}#sk-container-id-7 div.sk-toggleable__content {max-height: 0;max-width: 0;overflow: hidden;text-align: left;background-color: #f0f8ff;}#sk-container-id-7 div.sk-toggleable__content pre {margin: 0.2em;color: black;border-radius: 0.25em;background-color: #f0f8ff;}#sk-container-id-7 input.sk-toggleable__control:checked~div.sk-toggleable__content {max-height: 200px;max-width: 100%;overflow: auto;}#sk-container-id-7 input.sk-toggleable__control:checked~label.sk-toggleable__label-arrow:before {content: \"▾\";}#sk-container-id-7 div.sk-estimator input.sk-toggleable__control:checked~label.sk-toggleable__label {background-color: #d4ebff;}#sk-container-id-7 div.sk-label input.sk-toggleable__control:checked~label.sk-toggleable__label {background-color: #d4ebff;}#sk-container-id-7 input.sk-hidden--visually {border: 0;clip: rect(1px 1px 1px 1px);clip: rect(1px, 1px, 1px, 1px);height: 1px;margin: -1px;overflow: hidden;padding: 0;position: absolute;width: 1px;}#sk-container-id-7 div.sk-estimator {font-family: monospace;background-color: #f0f8ff;border: 1px dotted black;border-radius: 0.25em;box-sizing: border-box;margin-bottom: 0.5em;}#sk-container-id-7 div.sk-estimator:hover {background-color: #d4ebff;}#sk-container-id-7 div.sk-parallel-item::after {content: \"\";width: 100%;border-bottom: 1px solid gray;flex-grow: 1;}#sk-container-id-7 div.sk-label:hover label.sk-toggleable__label {background-color: #d4ebff;}#sk-container-id-7 div.sk-serial::before {content: \"\";position: absolute;border-left: 1px solid gray;box-sizing: border-box;top: 0;bottom: 0;left: 50%;z-index: 0;}#sk-container-id-7 div.sk-serial {display: flex;flex-direction: column;align-items: center;background-color: white;padding-right: 0.2em;padding-left: 0.2em;position: relative;}#sk-container-id-7 div.sk-item {position: relative;z-index: 1;}#sk-container-id-7 div.sk-parallel {display: flex;align-items: stretch;justify-content: center;background-color: white;position: relative;}#sk-container-id-7 div.sk-item::before, #sk-container-id-7 div.sk-parallel-item::before {content: \"\";position: absolute;border-left: 1px solid gray;box-sizing: border-box;top: 0;bottom: 0;left: 50%;z-index: -1;}#sk-container-id-7 div.sk-parallel-item {display: flex;flex-direction: column;z-index: 1;position: relative;background-color: white;}#sk-container-id-7 div.sk-parallel-item:first-child::after {align-self: flex-end;width: 50%;}#sk-container-id-7 div.sk-parallel-item:last-child::after {align-self: flex-start;width: 50%;}#sk-container-id-7 div.sk-parallel-item:only-child::after {width: 0;}#sk-container-id-7 div.sk-dashed-wrapped {border: 1px dashed gray;margin: 0 0.4em 0.5em 0.4em;box-sizing: border-box;padding-bottom: 0.4em;background-color: white;}#sk-container-id-7 div.sk-label label {font-family: monospace;font-weight: bold;display: inline-block;line-height: 1.2em;}#sk-container-id-7 div.sk-label-container {text-align: center;}#sk-container-id-7 div.sk-container {/* jupyter's `normalize.less` sets `[hidden] { display: none; }` but bootstrap.min.css set `[hidden] { display: none !important; }` so we also need the `!important` here to be able to override the default hidden behavior on the sphinx rendered scikit-learn.org. See: https://github.com/scikit-learn/scikit-learn/issues/21755 */display: inline-block !important;position: relative;}#sk-container-id-7 div.sk-text-repr-fallback {display: none;}</style><div id=\"sk-container-id-7\" class=\"sk-top-container\"><div class=\"sk-text-repr-fallback\"><pre>SVC(random_state=5)</pre><b>In a Jupyter environment, please rerun this cell to show the HTML representation or trust the notebook. <br />On GitHub, the HTML representation is unable to render, please try loading this page with nbviewer.org.</b></div><div class=\"sk-container\" hidden><div class=\"sk-item\"><div class=\"sk-estimator sk-toggleable\"><input class=\"sk-toggleable__control sk-hidden--visually\" id=\"sk-estimator-id-9\" type=\"checkbox\" checked><label for=\"sk-estimator-id-9\" class=\"sk-toggleable__label sk-toggleable__label-arrow\">SVC</label><div class=\"sk-toggleable__content\"><pre>SVC(random_state=5)</pre></div></div></div></div></div>"
      ],
      "text/plain": [
       "SVC(random_state=5)"
      ]
     },
     "execution_count": 53,
     "metadata": {},
     "output_type": "execute_result"
    }
   ],
   "source": [
    "from sklearn.svm import SVC\n",
    "\n",
    "svc_model = SVC(random_state = 5)\n",
    "\n",
    "svc_model.fit(X_train, y_train)"
   ]
  },
  {
   "cell_type": "code",
   "execution_count": 54,
   "id": "76997b3f",
   "metadata": {
    "execution": {
     "iopub.execute_input": "2024-04-20T20:30:54.651365Z",
     "iopub.status.busy": "2024-04-20T20:30:54.650941Z",
     "iopub.status.idle": "2024-04-20T20:30:54.662382Z",
     "shell.execute_reply": "2024-04-20T20:30:54.661292Z"
    },
    "papermill": {
     "duration": 0.044931,
     "end_time": "2024-04-20T20:30:54.664516",
     "exception": false,
     "start_time": "2024-04-20T20:30:54.619585",
     "status": "completed"
    },
    "tags": []
   },
   "outputs": [
    {
     "name": "stdout",
     "output_type": "stream",
     "text": [
      "The test accuracy score of SVM is: 0.6404494382022472\n"
     ]
    }
   ],
   "source": [
    "y_pred = svc_model.predict(X_test)\n",
    "\n",
    "print(\"The test accuracy score of SVM is:\", accuracy_score(y_test, y_pred))"
   ]
  },
  {
   "cell_type": "code",
   "execution_count": 55,
   "id": "f2142131",
   "metadata": {
    "execution": {
     "iopub.execute_input": "2024-04-20T20:30:54.727510Z",
     "iopub.status.busy": "2024-04-20T20:30:54.726610Z",
     "iopub.status.idle": "2024-04-20T20:30:54.796256Z",
     "shell.execute_reply": "2024-04-20T20:30:54.795087Z"
    },
    "papermill": {
     "duration": 0.103616,
     "end_time": "2024-04-20T20:30:54.798729",
     "exception": false,
     "start_time": "2024-04-20T20:30:54.695113",
     "status": "completed"
    },
    "tags": []
   },
   "outputs": [
    {
     "name": "stdout",
     "output_type": "stream",
     "text": [
      "Cross-Validation Accuracy Scores 0.6176470588235293\n"
     ]
    }
   ],
   "source": [
    "scores = cross_val_score(svc_model, X_test, y_test, cv = 10)\n",
    "print(\"Cross-Validation Accuracy Scores\", scores.mean())"
   ]
  },
  {
   "cell_type": "markdown",
   "id": "14c8dde5",
   "metadata": {
    "papermill": {
     "duration": 0.030164,
     "end_time": "2024-04-20T20:30:54.859094",
     "exception": false,
     "start_time": "2024-04-20T20:30:54.828930",
     "status": "completed"
    },
    "tags": []
   },
   "source": [
    "#### 4.  Random Forest Algorithm."
   ]
  },
  {
   "cell_type": "code",
   "execution_count": 56,
   "id": "67af6f12",
   "metadata": {
    "execution": {
     "iopub.execute_input": "2024-04-20T20:30:54.920938Z",
     "iopub.status.busy": "2024-04-20T20:30:54.920548Z",
     "iopub.status.idle": "2024-04-20T20:30:55.179609Z",
     "shell.execute_reply": "2024-04-20T20:30:55.178558Z"
    },
    "papermill": {
     "duration": 0.292586,
     "end_time": "2024-04-20T20:30:55.181766",
     "exception": false,
     "start_time": "2024-04-20T20:30:54.889180",
     "status": "completed"
    },
    "tags": []
   },
   "outputs": [
    {
     "data": {
      "text/html": [
       "<style>#sk-container-id-8 {color: black;background-color: white;}#sk-container-id-8 pre{padding: 0;}#sk-container-id-8 div.sk-toggleable {background-color: white;}#sk-container-id-8 label.sk-toggleable__label {cursor: pointer;display: block;width: 100%;margin-bottom: 0;padding: 0.3em;box-sizing: border-box;text-align: center;}#sk-container-id-8 label.sk-toggleable__label-arrow:before {content: \"▸\";float: left;margin-right: 0.25em;color: #696969;}#sk-container-id-8 label.sk-toggleable__label-arrow:hover:before {color: black;}#sk-container-id-8 div.sk-estimator:hover label.sk-toggleable__label-arrow:before {color: black;}#sk-container-id-8 div.sk-toggleable__content {max-height: 0;max-width: 0;overflow: hidden;text-align: left;background-color: #f0f8ff;}#sk-container-id-8 div.sk-toggleable__content pre {margin: 0.2em;color: black;border-radius: 0.25em;background-color: #f0f8ff;}#sk-container-id-8 input.sk-toggleable__control:checked~div.sk-toggleable__content {max-height: 200px;max-width: 100%;overflow: auto;}#sk-container-id-8 input.sk-toggleable__control:checked~label.sk-toggleable__label-arrow:before {content: \"▾\";}#sk-container-id-8 div.sk-estimator input.sk-toggleable__control:checked~label.sk-toggleable__label {background-color: #d4ebff;}#sk-container-id-8 div.sk-label input.sk-toggleable__control:checked~label.sk-toggleable__label {background-color: #d4ebff;}#sk-container-id-8 input.sk-hidden--visually {border: 0;clip: rect(1px 1px 1px 1px);clip: rect(1px, 1px, 1px, 1px);height: 1px;margin: -1px;overflow: hidden;padding: 0;position: absolute;width: 1px;}#sk-container-id-8 div.sk-estimator {font-family: monospace;background-color: #f0f8ff;border: 1px dotted black;border-radius: 0.25em;box-sizing: border-box;margin-bottom: 0.5em;}#sk-container-id-8 div.sk-estimator:hover {background-color: #d4ebff;}#sk-container-id-8 div.sk-parallel-item::after {content: \"\";width: 100%;border-bottom: 1px solid gray;flex-grow: 1;}#sk-container-id-8 div.sk-label:hover label.sk-toggleable__label {background-color: #d4ebff;}#sk-container-id-8 div.sk-serial::before {content: \"\";position: absolute;border-left: 1px solid gray;box-sizing: border-box;top: 0;bottom: 0;left: 50%;z-index: 0;}#sk-container-id-8 div.sk-serial {display: flex;flex-direction: column;align-items: center;background-color: white;padding-right: 0.2em;padding-left: 0.2em;position: relative;}#sk-container-id-8 div.sk-item {position: relative;z-index: 1;}#sk-container-id-8 div.sk-parallel {display: flex;align-items: stretch;justify-content: center;background-color: white;position: relative;}#sk-container-id-8 div.sk-item::before, #sk-container-id-8 div.sk-parallel-item::before {content: \"\";position: absolute;border-left: 1px solid gray;box-sizing: border-box;top: 0;bottom: 0;left: 50%;z-index: -1;}#sk-container-id-8 div.sk-parallel-item {display: flex;flex-direction: column;z-index: 1;position: relative;background-color: white;}#sk-container-id-8 div.sk-parallel-item:first-child::after {align-self: flex-end;width: 50%;}#sk-container-id-8 div.sk-parallel-item:last-child::after {align-self: flex-start;width: 50%;}#sk-container-id-8 div.sk-parallel-item:only-child::after {width: 0;}#sk-container-id-8 div.sk-dashed-wrapped {border: 1px dashed gray;margin: 0 0.4em 0.5em 0.4em;box-sizing: border-box;padding-bottom: 0.4em;background-color: white;}#sk-container-id-8 div.sk-label label {font-family: monospace;font-weight: bold;display: inline-block;line-height: 1.2em;}#sk-container-id-8 div.sk-label-container {text-align: center;}#sk-container-id-8 div.sk-container {/* jupyter's `normalize.less` sets `[hidden] { display: none; }` but bootstrap.min.css set `[hidden] { display: none !important; }` so we also need the `!important` here to be able to override the default hidden behavior on the sphinx rendered scikit-learn.org. See: https://github.com/scikit-learn/scikit-learn/issues/21755 */display: inline-block !important;position: relative;}#sk-container-id-8 div.sk-text-repr-fallback {display: none;}</style><div id=\"sk-container-id-8\" class=\"sk-top-container\"><div class=\"sk-text-repr-fallback\"><pre>RandomForestClassifier(random_state=5)</pre><b>In a Jupyter environment, please rerun this cell to show the HTML representation or trust the notebook. <br />On GitHub, the HTML representation is unable to render, please try loading this page with nbviewer.org.</b></div><div class=\"sk-container\" hidden><div class=\"sk-item\"><div class=\"sk-estimator sk-toggleable\"><input class=\"sk-toggleable__control sk-hidden--visually\" id=\"sk-estimator-id-10\" type=\"checkbox\" checked><label for=\"sk-estimator-id-10\" class=\"sk-toggleable__label sk-toggleable__label-arrow\">RandomForestClassifier</label><div class=\"sk-toggleable__content\"><pre>RandomForestClassifier(random_state=5)</pre></div></div></div></div></div>"
      ],
      "text/plain": [
       "RandomForestClassifier(random_state=5)"
      ]
     },
     "execution_count": 56,
     "metadata": {},
     "output_type": "execute_result"
    }
   ],
   "source": [
    "from sklearn.ensemble import RandomForestClassifier\n",
    "\n",
    "random_forest = RandomForestClassifier(random_state = 5)\n",
    "\n",
    "random_forest.fit(X_train, y_train)"
   ]
  },
  {
   "cell_type": "code",
   "execution_count": 57,
   "id": "319625f1",
   "metadata": {
    "execution": {
     "iopub.execute_input": "2024-04-20T20:30:55.246435Z",
     "iopub.status.busy": "2024-04-20T20:30:55.246047Z",
     "iopub.status.idle": "2024-04-20T20:30:55.263515Z",
     "shell.execute_reply": "2024-04-20T20:30:55.262253Z"
    },
    "papermill": {
     "duration": 0.053833,
     "end_time": "2024-04-20T20:30:55.265919",
     "exception": false,
     "start_time": "2024-04-20T20:30:55.212086",
     "status": "completed"
    },
    "tags": []
   },
   "outputs": [
    {
     "name": "stdout",
     "output_type": "stream",
     "text": [
      "The test accuracy score of Random Forest is 0.7865168539325843\n"
     ]
    }
   ],
   "source": [
    "y_pred = random_forest.predict(X_test)\n",
    "\n",
    "print(\"The test accuracy score of Random Forest is\", accuracy_score(y_test, y_pred))"
   ]
  },
  {
   "cell_type": "code",
   "execution_count": 58,
   "id": "dc14c42c",
   "metadata": {
    "execution": {
     "iopub.execute_input": "2024-04-20T20:30:55.328773Z",
     "iopub.status.busy": "2024-04-20T20:30:55.327861Z",
     "iopub.status.idle": "2024-04-20T20:30:57.071414Z",
     "shell.execute_reply": "2024-04-20T20:30:57.070279Z"
    },
    "papermill": {
     "duration": 1.777145,
     "end_time": "2024-04-20T20:30:57.073670",
     "exception": false,
     "start_time": "2024-04-20T20:30:55.296525",
     "status": "completed"
    },
    "tags": []
   },
   "outputs": [
    {
     "name": "stdout",
     "output_type": "stream",
     "text": [
      "Cross-Validation Accuracy Scores 0.707843137254902\n"
     ]
    }
   ],
   "source": [
    "scores = cross_val_score(random_forest, X_test, y_test, cv = 10)\n",
    "print(\"Cross-Validation Accuracy Scores\", scores.mean())"
   ]
  }
 ],
 "metadata": {
  "kaggle": {
   "accelerator": "none",
   "dataSources": [
    {
     "databundleVersionId": 26502,
     "sourceId": 3136,
     "sourceType": "competition"
    }
   ],
   "dockerImageVersionId": 30673,
   "isGpuEnabled": false,
   "isInternetEnabled": false,
   "language": "python",
   "sourceType": "notebook"
  },
  "kernelspec": {
   "display_name": "Python 3 (ipykernel)",
   "language": "python",
   "name": "python3"
  },
  "language_info": {
   "codemirror_mode": {
    "name": "ipython",
    "version": 3
   },
   "file_extension": ".py",
   "mimetype": "text/x-python",
   "name": "python",
   "nbconvert_exporter": "python",
   "pygments_lexer": "ipython3",
   "version": "3.11.5"
  },
  "papermill": {
   "default_parameters": {},
   "duration": 19.567788,
   "end_time": "2024-04-20T20:31:00.209721",
   "environment_variables": {},
   "exception": true,
   "input_path": "__notebook__.ipynb",
   "output_path": "__notebook__.ipynb",
   "parameters": {},
   "start_time": "2024-04-20T20:30:40.641933",
   "version": "2.5.0"
  }
 },
 "nbformat": 4,
 "nbformat_minor": 5
}
